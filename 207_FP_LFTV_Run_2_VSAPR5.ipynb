{
 "cells": [
  {
   "cell_type": "markdown",
   "metadata": {},
   "source": [
    "# #############################\n"
   ]
  },
  {
   "cell_type": "markdown",
   "metadata": {},
   "source": [
    "# RUN 2 - SHARPER FOCUS ON FEATURE SELECTION AND ENGINEERING"
   ]
  },
  {
   "cell_type": "markdown",
   "metadata": {},
   "source": [
    "# SECTION: Library Installations and GPU checks"
   ]
  },
  {
   "cell_type": "code",
   "execution_count": 1,
   "metadata": {},
   "outputs": [
    {
     "name": "stdout",
     "output_type": "stream",
     "text": [
      "TensorFlow version: 2.16.2\n",
      "Num GPUs Available: 1\n"
     ]
    }
   ],
   "source": [
    "import tensorflow as tf\n",
    "\n",
    "# Check TensorFlow version\n",
    "print(\"TensorFlow version:\", tf.__version__)\n",
    "\n",
    "# Check if GPU (Metal) is available\n",
    "print(\"Num GPUs Available:\", len(tf.config.experimental.list_physical_devices('GPU')))"
   ]
  },
  {
   "cell_type": "code",
   "execution_count": 2,
   "metadata": {},
   "outputs": [
    {
     "name": "stdout",
     "output_type": "stream",
     "text": [
      "Time taken for matrix multiplication: 0.002978086471557617 seconds\n"
     ]
    },
    {
     "name": "stderr",
     "output_type": "stream",
     "text": [
      "2025-04-06 00:06:29.659770: I metal_plugin/src/device/metal_device.cc:1154] Metal device set to: Apple M3\n",
      "2025-04-06 00:06:29.659798: I metal_plugin/src/device/metal_device.cc:296] systemMemory: 16.00 GB\n",
      "2025-04-06 00:06:29.659803: I metal_plugin/src/device/metal_device.cc:313] maxCacheSize: 5.33 GB\n",
      "2025-04-06 00:06:29.659817: I tensorflow/core/common_runtime/pluggable_device/pluggable_device_factory.cc:305] Could not identify NUMA node of platform GPU ID 0, defaulting to 0. Your kernel may not have been built with NUMA support.\n",
      "2025-04-06 00:06:29.659830: I tensorflow/core/common_runtime/pluggable_device/pluggable_device_factory.cc:271] Created TensorFlow device (/job:localhost/replica:0/task:0/device:GPU:0 with 0 MB memory) -> physical PluggableDevice (device: 0, name: METAL, pci bus id: <undefined>)\n"
     ]
    }
   ],
   "source": [
    "import tensorflow as tf\n",
    "import time\n",
    "\n",
    "# Create a large random tensor\n",
    "tensor_a = tf.random.normal([1000, 1000])\n",
    "tensor_b = tf.random.normal([1000, 1000])\n",
    "\n",
    "# Perform matrix multiplication on GPU\n",
    "start_time = time.time()\n",
    "result = tf.matmul(tensor_a, tensor_b)\n",
    "end_time = time.time()\n",
    "\n",
    "print(\"Time taken for matrix multiplication:\", end_time - start_time, \"seconds\")"
   ]
  },
  {
   "cell_type": "markdown",
   "metadata": {},
   "source": [
    "# SECTION: Imports and more Libary Installs"
   ]
  },
  {
   "cell_type": "code",
   "execution_count": 3,
   "metadata": {},
   "outputs": [],
   "source": [
    "#! brew install cmake"
   ]
  },
  {
   "cell_type": "code",
   "execution_count": 4,
   "metadata": {},
   "outputs": [],
   "source": [
    "#! pip install tensorflow-datasets"
   ]
  },
  {
   "cell_type": "code",
   "execution_count": 5,
   "metadata": {},
   "outputs": [],
   "source": [
    "# ! pip install scikit-learn"
   ]
  },
  {
   "cell_type": "code",
   "execution_count": 6,
   "metadata": {},
   "outputs": [],
   "source": [
    "# ! pip install shap\n"
   ]
  },
  {
   "cell_type": "code",
   "execution_count": 7,
   "metadata": {},
   "outputs": [],
   "source": [
    "# ! pip install keras-tuner"
   ]
  },
  {
   "cell_type": "code",
   "execution_count": 8,
   "metadata": {},
   "outputs": [],
   "source": [
    "# standard\n",
    "import pandas as pd\n",
    "import numpy as np\n",
    "import random\n",
    "import os\n",
    "\n",
    "# tf and keras\n",
    "import tensorflow as tf\n",
    "from tensorflow.keras import Sequential\n",
    "from tensorflow.keras.layers import Dense\n",
    "from tensorflow.keras.layers import Flatten\n",
    "from tensorflow.keras.layers import Conv1D\n",
    "from tensorflow.keras.layers import Conv2D\n",
    "from tensorflow.keras.layers import MaxPooling1D\n",
    "from tensorflow.keras.layers import GlobalAveragePooling1D\n",
    "from tensorflow.keras.layers import Embedding\n",
    "from tensorflow.keras.preprocessing.text import Tokenizer\n",
    "from tensorflow.keras.preprocessing import sequence\n",
    "from sklearn.preprocessing import LabelEncoder, StandardScaler\n",
    "from sklearn.model_selection import train_test_split, GridSearchCV, RandomizedSearchCV\n",
    "from sklearn.linear_model import LinearRegression\n",
    "from sklearn.metrics import mean_squared_error, r2_score\n",
    "import tensorflow_datasets as tfds\n",
    "from sklearn.preprocessing import OneHotEncoder\n",
    "import tensorflow as tf\n",
    "from tensorflow.keras import layers, models\n",
    "\n",
    "from scipy import stats\n",
    "from scipy.stats import boxcox\n",
    "\n",
    "import keras\n",
    "import keras_tuner as kt\n",
    "\n",
    "from keras import layers, models\n",
    "from keras.optimizers import Adam\n",
    "from keras.callbacks import EarlyStopping, ModelCheckpoint\n",
    "from keras.models import load_model\n",
    "\n",
    "from sklearn.ensemble import RandomForestRegressor, HistGradientBoostingRegressor\n",
    "\n",
    "# shap\n",
    "#import shap\n",
    "\n",
    "# plots and images\n",
    "import seaborn as sns\n",
    "import matplotlib.pyplot as plt\n",
    "from IPython.display import Image\n",
    "\n",
    "# others\n",
    "import re\n",
    "from sklearn.decomposition import PCA\n",
    "#from wordcloud import WordCloud\n",
    "from collections import Counter\n",
    "import warnings\n",
    "warnings.filterwarnings(\"ignore\")\n",
    "\n",
    "#silence TF\n",
    "os.environ['TF_CPP_MIN_LOG_LEVEL'] = '3' \n",
    "\n",
    "\n",
    "random.seed(42)\n",
    "%matplotlib inline\n",
    "\n",
    "# FILL IN CODE HERE #\n",
    "RANDOM_SAMPLES_VAL = 500000 #To make computing on local machine, colab palatable, we will use a random sample for the exercise  \n",
    "RANDOM_STATE = 42"
   ]
  },
  {
   "cell_type": "markdown",
   "metadata": {},
   "source": [
    "# SECTION: Our helper and utility functions"
   ]
  },
  {
   "cell_type": "code",
   "execution_count": 9,
   "metadata": {},
   "outputs": [],
   "source": [
    "#VS - II helpful functions\n",
    "\n",
    "# summarizes a data frame in a printer friendly way\n",
    "def summarize_dataframe(df):\n",
    "    summary = pd.DataFrame({\n",
    "        'Column Name': df.columns,\n",
    "        'Data Type': df.dtypes.values,\n",
    "        'Null Count': df.isnull().sum().values,\n",
    "        'Non-Null Count': df.notnull().sum().values,\n",
    "        'Unique Count': df.nunique().values\n",
    "    })\n",
    "    return summary"
   ]
  },
  {
   "cell_type": "markdown",
   "metadata": {},
   "source": [
    "# SECTION: Data Load"
   ]
  },
  {
   "cell_type": "code",
   "execution_count": 10,
   "metadata": {},
   "outputs": [],
   "source": [
    "#Retail Data.csv is our master data file from Kaggle\n",
    "retail_df=pd.read_csv('retail_data.csv')"
   ]
  },
  {
   "cell_type": "code",
   "execution_count": 11,
   "metadata": {},
   "outputs": [
    {
     "data": {
      "application/vnd.microsoft.datawrangler.viewer.v0+json": {
       "columns": [
        {
         "name": "index",
         "rawType": "int64",
         "type": "integer"
        },
        {
         "name": "customer_id",
         "rawType": "int64",
         "type": "integer"
        },
        {
         "name": "age",
         "rawType": "int64",
         "type": "integer"
        },
        {
         "name": "gender",
         "rawType": "object",
         "type": "string"
        },
        {
         "name": "income_bracket",
         "rawType": "object",
         "type": "string"
        },
        {
         "name": "loyalty_program",
         "rawType": "object",
         "type": "string"
        },
        {
         "name": "membership_years",
         "rawType": "int64",
         "type": "integer"
        },
        {
         "name": "churned",
         "rawType": "object",
         "type": "string"
        },
        {
         "name": "marital_status",
         "rawType": "object",
         "type": "string"
        },
        {
         "name": "number_of_children",
         "rawType": "int64",
         "type": "integer"
        },
        {
         "name": "education_level",
         "rawType": "object",
         "type": "string"
        },
        {
         "name": "occupation",
         "rawType": "object",
         "type": "string"
        },
        {
         "name": "transaction_id",
         "rawType": "int64",
         "type": "integer"
        },
        {
         "name": "transaction_date",
         "rawType": "object",
         "type": "string"
        },
        {
         "name": "product_id",
         "rawType": "int64",
         "type": "integer"
        },
        {
         "name": "product_category",
         "rawType": "object",
         "type": "string"
        },
        {
         "name": "quantity",
         "rawType": "int64",
         "type": "integer"
        },
        {
         "name": "unit_price",
         "rawType": "float64",
         "type": "float"
        },
        {
         "name": "discount_applied",
         "rawType": "float64",
         "type": "float"
        },
        {
         "name": "payment_method",
         "rawType": "object",
         "type": "string"
        },
        {
         "name": "store_location",
         "rawType": "object",
         "type": "string"
        },
        {
         "name": "transaction_hour",
         "rawType": "int64",
         "type": "integer"
        },
        {
         "name": "day_of_week",
         "rawType": "object",
         "type": "string"
        },
        {
         "name": "week_of_year",
         "rawType": "int64",
         "type": "integer"
        },
        {
         "name": "month_of_year",
         "rawType": "int64",
         "type": "integer"
        },
        {
         "name": "avg_purchase_value",
         "rawType": "float64",
         "type": "float"
        },
        {
         "name": "purchase_frequency",
         "rawType": "object",
         "type": "string"
        },
        {
         "name": "last_purchase_date",
         "rawType": "object",
         "type": "string"
        },
        {
         "name": "avg_discount_used",
         "rawType": "float64",
         "type": "float"
        },
        {
         "name": "preferred_store",
         "rawType": "object",
         "type": "string"
        },
        {
         "name": "online_purchases",
         "rawType": "int64",
         "type": "integer"
        },
        {
         "name": "in_store_purchases",
         "rawType": "int64",
         "type": "integer"
        },
        {
         "name": "avg_items_per_transaction",
         "rawType": "float64",
         "type": "float"
        },
        {
         "name": "avg_transaction_value",
         "rawType": "float64",
         "type": "float"
        },
        {
         "name": "total_returned_items",
         "rawType": "int64",
         "type": "integer"
        },
        {
         "name": "total_returned_value",
         "rawType": "float64",
         "type": "float"
        },
        {
         "name": "total_sales",
         "rawType": "float64",
         "type": "float"
        },
        {
         "name": "total_transactions",
         "rawType": "int64",
         "type": "integer"
        },
        {
         "name": "total_items_purchased",
         "rawType": "int64",
         "type": "integer"
        },
        {
         "name": "total_discounts_received",
         "rawType": "float64",
         "type": "float"
        },
        {
         "name": "avg_spent_per_category",
         "rawType": "float64",
         "type": "float"
        },
        {
         "name": "max_single_purchase_value",
         "rawType": "float64",
         "type": "float"
        },
        {
         "name": "min_single_purchase_value",
         "rawType": "float64",
         "type": "float"
        },
        {
         "name": "product_name",
         "rawType": "object",
         "type": "string"
        },
        {
         "name": "product_brand",
         "rawType": "object",
         "type": "string"
        },
        {
         "name": "product_rating",
         "rawType": "float64",
         "type": "float"
        },
        {
         "name": "product_review_count",
         "rawType": "int64",
         "type": "integer"
        },
        {
         "name": "product_stock",
         "rawType": "int64",
         "type": "integer"
        },
        {
         "name": "product_return_rate",
         "rawType": "float64",
         "type": "float"
        },
        {
         "name": "product_size",
         "rawType": "object",
         "type": "string"
        },
        {
         "name": "product_weight",
         "rawType": "float64",
         "type": "float"
        },
        {
         "name": "product_color",
         "rawType": "object",
         "type": "string"
        },
        {
         "name": "product_material",
         "rawType": "object",
         "type": "string"
        },
        {
         "name": "product_manufacture_date",
         "rawType": "object",
         "type": "string"
        },
        {
         "name": "product_expiry_date",
         "rawType": "object",
         "type": "string"
        },
        {
         "name": "product_shelf_life",
         "rawType": "int64",
         "type": "integer"
        },
        {
         "name": "promotion_id",
         "rawType": "int64",
         "type": "integer"
        },
        {
         "name": "promotion_type",
         "rawType": "object",
         "type": "string"
        },
        {
         "name": "promotion_start_date",
         "rawType": "object",
         "type": "string"
        },
        {
         "name": "promotion_end_date",
         "rawType": "object",
         "type": "string"
        },
        {
         "name": "promotion_effectiveness",
         "rawType": "object",
         "type": "string"
        },
        {
         "name": "promotion_channel",
         "rawType": "object",
         "type": "string"
        },
        {
         "name": "promotion_target_audience",
         "rawType": "object",
         "type": "string"
        },
        {
         "name": "customer_zip_code",
         "rawType": "int64",
         "type": "integer"
        },
        {
         "name": "customer_city",
         "rawType": "object",
         "type": "string"
        },
        {
         "name": "customer_state",
         "rawType": "object",
         "type": "string"
        },
        {
         "name": "store_zip_code",
         "rawType": "int64",
         "type": "integer"
        },
        {
         "name": "store_city",
         "rawType": "object",
         "type": "string"
        },
        {
         "name": "store_state",
         "rawType": "object",
         "type": "string"
        },
        {
         "name": "distance_to_store",
         "rawType": "float64",
         "type": "float"
        },
        {
         "name": "holiday_season",
         "rawType": "object",
         "type": "string"
        },
        {
         "name": "season",
         "rawType": "object",
         "type": "string"
        },
        {
         "name": "weekend",
         "rawType": "object",
         "type": "string"
        },
        {
         "name": "customer_support_calls",
         "rawType": "int64",
         "type": "integer"
        },
        {
         "name": "email_subscriptions",
         "rawType": "object",
         "type": "string"
        },
        {
         "name": "app_usage",
         "rawType": "object",
         "type": "string"
        },
        {
         "name": "website_visits",
         "rawType": "int64",
         "type": "integer"
        },
        {
         "name": "social_media_engagement",
         "rawType": "object",
         "type": "string"
        },
        {
         "name": "days_since_last_purchase",
         "rawType": "int64",
         "type": "integer"
        }
       ],
       "conversionMethod": "pd.DataFrame",
       "ref": "6b92cdec-e9c7-4198-8384-a2fc8abb5c11",
       "rows": [
        [
         "0",
         "1",
         "56",
         "Other",
         "High",
         "No",
         "0",
         "No",
         "Divorced",
         "3",
         "Bachelor's",
         "Self-Employed",
         "503290",
         "2020-10-11 10:08:52",
         "1480",
         "Electronics",
         "8",
         "49.72",
         "0.5",
         "Credit Card",
         "Location A",
         "18",
         "Wednesday",
         "27",
         "7",
         "411.13",
         "Weekly",
         "2021-09-11 04:22:38",
         "0.02",
         "Location A",
         "55",
         "86",
         "8.64",
         "171.83",
         "0",
         "750.4",
         "563.16",
         "69",
         "367",
         "415.01",
         "114.28",
         "679.25",
         "0.28",
         "Product D",
         "Brand Y",
         "2.5",
         "560",
         "48",
         "0.4",
         "Small",
         "4.61",
         "Red",
         "Metal",
         "2019-08-04 01:47:01",
         "2022-05-28 14:54:02",
         "250",
         "271",
         "20% Off",
         "2021-07-14 14:28:42",
         "2022-12-30 13:04:13",
         "High",
         "Online",
         "New Customers",
         "37848",
         "City D",
         "State Y",
         "88500",
         "City D",
         "State Y",
         "33.21",
         "No",
         "Spring",
         "Yes",
         "5",
         "No",
         "High",
         "30",
         "High",
         "40"
        ],
        [
         "1",
         "2",
         "69",
         "Female",
         "Medium",
         "No",
         "2",
         "No",
         "Married",
         "2",
         "PhD",
         "Unemployed",
         "347796",
         "2021-12-08 01:07:40",
         "1597",
         "Groceries",
         "7",
         "817.76",
         "0.32",
         "Credit Card",
         "Location C",
         "15",
         "Friday",
         "20",
         "2",
         "268.71",
         "Daily",
         "2021-05-16 12:01:16",
         "0.33",
         "Location C",
         "48",
         "2",
         "9.6",
         "20.18",
         "4",
         "551.6",
         "7554.57",
         "8",
         "475",
         "801.79",
         "305.95",
         "491.56",
         "4.65",
         "Product C",
         "Brand X",
         "4.7",
         "413",
         "80",
         "0.3",
         "Medium",
         "0.84",
         "Blue",
         "Metal",
         "2019-10-23 19:59:17",
         "2022-12-19 08:04:41",
         "180",
         "631",
         "Flash Sale",
         "2021-09-23 04:26:09",
         "2022-09-13 03:16:26",
         "Low",
         "Social Media",
         "New Customers",
         "44896",
         "City A",
         "State X",
         "30046",
         "City C",
         "State X",
         "62.56",
         "No",
         "Summer",
         "Yes",
         "6",
         "No",
         "High",
         "40",
         "Medium",
         "338"
        ],
        [
         "2",
         "3",
         "46",
         "Female",
         "Low",
         "No",
         "5",
         "No",
         "Married",
         "3",
         "Bachelor's",
         "Self-Employed",
         "493688",
         "2020-02-17 09:40:48",
         "5142",
         "Toys",
         "8",
         "270.3",
         "0.35",
         "Debit Card",
         "Location A",
         "9",
         "Saturday",
         "35",
         "6",
         "246.79",
         "Weekly",
         "2021-02-07 16:47:48",
         "0.47",
         "Location B",
         "16",
         "45",
         "1.55",
         "55.17",
         "0",
         "629.19",
         "7564.14",
         "73",
         "138",
         "264.31",
         "426.7",
         "938.26",
         "7.3",
         "Product B",
         "Brand X",
         "4.6",
         "312",
         "14",
         "0.08",
         "Medium",
         "0.23",
         "Green",
         "Plastic",
         "2018-05-12 08:00:29",
         "2023-02-01 12:15:07",
         "131",
         "879",
         "Flash Sale",
         "2021-06-13 12:31:15",
         "2022-03-13 00:53:35",
         "Low",
         "Online",
         "New Customers",
         "11816",
         "City B",
         "State X",
         "26169",
         "City A",
         "State Y",
         "83.04",
         "Yes",
         "Winter",
         "Yes",
         "2",
         "Yes",
         "Low",
         "89",
         "Medium",
         "61"
        ],
        [
         "3",
         "4",
         "32",
         "Female",
         "Low",
         "No",
         "0",
         "No",
         "Divorced",
         "2",
         "Master's",
         "Employed",
         "861348",
         "2020-08-13 00:43:14",
         "8447",
         "Toys",
         "2",
         "547.84",
         "0.1",
         "Credit Card",
         "Location A",
         "13",
         "Friday",
         "42",
         "8",
         "178.92",
         "Weekly",
         "2021-12-30 23:48:26",
         "0.41",
         "Location B",
         "50",
         "47",
         "1.78",
         "15.79",
         "3",
         "346.67",
         "8125.92",
         "20",
         "158",
         "192.93",
         "689.58",
         "644.31",
         "7.31",
         "Product A",
         "Brand Z",
         "1.1",
         "110",
         "69",
         "0.09",
         "Large",
         "4.37",
         "Blue",
         "Wood",
         "2019-11-15 16:17:29",
         "2023-02-05 11:46:57",
         "16",
         "211",
         "Buy One Get One Free",
         "2021-05-23 05:42:48",
         "2022-02-06 00:42:30",
         "High",
         "Social Media",
         "Returning Customers",
         "78604",
         "City A",
         "State Y",
         "22667",
         "City B",
         "State Z",
         "50.43",
         "Yes",
         "Winter",
         "No",
         "12",
         "No",
         "Low",
         "12",
         "Low",
         "42"
        ],
        [
         "4",
         "5",
         "60",
         "Female",
         "Low",
         "Yes",
         "7",
         "Yes",
         "Divorced",
         "2",
         "Bachelor's",
         "Employed",
         "535835",
         "2021-07-02 11:59:03",
         "6025",
         "Clothing",
         "4",
         "785.29",
         "0.17",
         "Mobile Payment",
         "Location C",
         "17",
         "Monday",
         "37",
         "3",
         "214.06",
         "Yearly",
         "2021-11-02 11:48:25",
         "0.22",
         "Location B",
         "48",
         "42",
         "9.38",
         "240.03",
         "2",
         "979.91",
         "114.32",
         "83",
         "263",
         "497.26",
         "715.86",
         "162.86",
         "1.92",
         "Product C",
         "Brand X",
         "3.8",
         "172",
         "25",
         "0.39",
         "Small",
         "1.68",
         "Red",
         "Metal",
         "2019-08-27 02:58:19",
         "2023-10-05 08:13:07",
         "57",
         "862",
         "Flash Sale",
         "2021-04-19 04:55:32",
         "2022-12-04 13:07:09",
         "Medium",
         "Online",
         "New Customers",
         "17760",
         "City B",
         "State Z",
         "87843",
         "City C",
         "State X",
         "36.55",
         "Yes",
         "Summer",
         "Yes",
         "3",
         "No",
         "Medium",
         "31",
         "Low",
         "242"
        ]
       ],
       "shape": {
        "columns": 78,
        "rows": 5
       }
      },
      "text/html": [
       "<div>\n",
       "<style scoped>\n",
       "    .dataframe tbody tr th:only-of-type {\n",
       "        vertical-align: middle;\n",
       "    }\n",
       "\n",
       "    .dataframe tbody tr th {\n",
       "        vertical-align: top;\n",
       "    }\n",
       "\n",
       "    .dataframe thead th {\n",
       "        text-align: right;\n",
       "    }\n",
       "</style>\n",
       "<table border=\"1\" class=\"dataframe\">\n",
       "  <thead>\n",
       "    <tr style=\"text-align: right;\">\n",
       "      <th></th>\n",
       "      <th>customer_id</th>\n",
       "      <th>age</th>\n",
       "      <th>gender</th>\n",
       "      <th>income_bracket</th>\n",
       "      <th>loyalty_program</th>\n",
       "      <th>membership_years</th>\n",
       "      <th>churned</th>\n",
       "      <th>marital_status</th>\n",
       "      <th>number_of_children</th>\n",
       "      <th>education_level</th>\n",
       "      <th>...</th>\n",
       "      <th>distance_to_store</th>\n",
       "      <th>holiday_season</th>\n",
       "      <th>season</th>\n",
       "      <th>weekend</th>\n",
       "      <th>customer_support_calls</th>\n",
       "      <th>email_subscriptions</th>\n",
       "      <th>app_usage</th>\n",
       "      <th>website_visits</th>\n",
       "      <th>social_media_engagement</th>\n",
       "      <th>days_since_last_purchase</th>\n",
       "    </tr>\n",
       "  </thead>\n",
       "  <tbody>\n",
       "    <tr>\n",
       "      <th>0</th>\n",
       "      <td>1</td>\n",
       "      <td>56</td>\n",
       "      <td>Other</td>\n",
       "      <td>High</td>\n",
       "      <td>No</td>\n",
       "      <td>0</td>\n",
       "      <td>No</td>\n",
       "      <td>Divorced</td>\n",
       "      <td>3</td>\n",
       "      <td>Bachelor's</td>\n",
       "      <td>...</td>\n",
       "      <td>33.21</td>\n",
       "      <td>No</td>\n",
       "      <td>Spring</td>\n",
       "      <td>Yes</td>\n",
       "      <td>5</td>\n",
       "      <td>No</td>\n",
       "      <td>High</td>\n",
       "      <td>30</td>\n",
       "      <td>High</td>\n",
       "      <td>40</td>\n",
       "    </tr>\n",
       "    <tr>\n",
       "      <th>1</th>\n",
       "      <td>2</td>\n",
       "      <td>69</td>\n",
       "      <td>Female</td>\n",
       "      <td>Medium</td>\n",
       "      <td>No</td>\n",
       "      <td>2</td>\n",
       "      <td>No</td>\n",
       "      <td>Married</td>\n",
       "      <td>2</td>\n",
       "      <td>PhD</td>\n",
       "      <td>...</td>\n",
       "      <td>62.56</td>\n",
       "      <td>No</td>\n",
       "      <td>Summer</td>\n",
       "      <td>Yes</td>\n",
       "      <td>6</td>\n",
       "      <td>No</td>\n",
       "      <td>High</td>\n",
       "      <td>40</td>\n",
       "      <td>Medium</td>\n",
       "      <td>338</td>\n",
       "    </tr>\n",
       "    <tr>\n",
       "      <th>2</th>\n",
       "      <td>3</td>\n",
       "      <td>46</td>\n",
       "      <td>Female</td>\n",
       "      <td>Low</td>\n",
       "      <td>No</td>\n",
       "      <td>5</td>\n",
       "      <td>No</td>\n",
       "      <td>Married</td>\n",
       "      <td>3</td>\n",
       "      <td>Bachelor's</td>\n",
       "      <td>...</td>\n",
       "      <td>83.04</td>\n",
       "      <td>Yes</td>\n",
       "      <td>Winter</td>\n",
       "      <td>Yes</td>\n",
       "      <td>2</td>\n",
       "      <td>Yes</td>\n",
       "      <td>Low</td>\n",
       "      <td>89</td>\n",
       "      <td>Medium</td>\n",
       "      <td>61</td>\n",
       "    </tr>\n",
       "    <tr>\n",
       "      <th>3</th>\n",
       "      <td>4</td>\n",
       "      <td>32</td>\n",
       "      <td>Female</td>\n",
       "      <td>Low</td>\n",
       "      <td>No</td>\n",
       "      <td>0</td>\n",
       "      <td>No</td>\n",
       "      <td>Divorced</td>\n",
       "      <td>2</td>\n",
       "      <td>Master's</td>\n",
       "      <td>...</td>\n",
       "      <td>50.43</td>\n",
       "      <td>Yes</td>\n",
       "      <td>Winter</td>\n",
       "      <td>No</td>\n",
       "      <td>12</td>\n",
       "      <td>No</td>\n",
       "      <td>Low</td>\n",
       "      <td>12</td>\n",
       "      <td>Low</td>\n",
       "      <td>42</td>\n",
       "    </tr>\n",
       "    <tr>\n",
       "      <th>4</th>\n",
       "      <td>5</td>\n",
       "      <td>60</td>\n",
       "      <td>Female</td>\n",
       "      <td>Low</td>\n",
       "      <td>Yes</td>\n",
       "      <td>7</td>\n",
       "      <td>Yes</td>\n",
       "      <td>Divorced</td>\n",
       "      <td>2</td>\n",
       "      <td>Bachelor's</td>\n",
       "      <td>...</td>\n",
       "      <td>36.55</td>\n",
       "      <td>Yes</td>\n",
       "      <td>Summer</td>\n",
       "      <td>Yes</td>\n",
       "      <td>3</td>\n",
       "      <td>No</td>\n",
       "      <td>Medium</td>\n",
       "      <td>31</td>\n",
       "      <td>Low</td>\n",
       "      <td>242</td>\n",
       "    </tr>\n",
       "  </tbody>\n",
       "</table>\n",
       "<p>5 rows × 78 columns</p>\n",
       "</div>"
      ],
      "text/plain": [
       "   customer_id  age  gender income_bracket loyalty_program  membership_years  \\\n",
       "0            1   56   Other           High              No                 0   \n",
       "1            2   69  Female         Medium              No                 2   \n",
       "2            3   46  Female            Low              No                 5   \n",
       "3            4   32  Female            Low              No                 0   \n",
       "4            5   60  Female            Low             Yes                 7   \n",
       "\n",
       "  churned marital_status  number_of_children education_level  ...  \\\n",
       "0      No       Divorced                   3      Bachelor's  ...   \n",
       "1      No        Married                   2             PhD  ...   \n",
       "2      No        Married                   3      Bachelor's  ...   \n",
       "3      No       Divorced                   2        Master's  ...   \n",
       "4     Yes       Divorced                   2      Bachelor's  ...   \n",
       "\n",
       "  distance_to_store  holiday_season  season  weekend customer_support_calls  \\\n",
       "0             33.21              No  Spring      Yes                      5   \n",
       "1             62.56              No  Summer      Yes                      6   \n",
       "2             83.04             Yes  Winter      Yes                      2   \n",
       "3             50.43             Yes  Winter       No                     12   \n",
       "4             36.55             Yes  Summer      Yes                      3   \n",
       "\n",
       "   email_subscriptions  app_usage  website_visits social_media_engagement  \\\n",
       "0                   No       High              30                    High   \n",
       "1                   No       High              40                  Medium   \n",
       "2                  Yes        Low              89                  Medium   \n",
       "3                   No        Low              12                     Low   \n",
       "4                   No     Medium              31                     Low   \n",
       "\n",
       "  days_since_last_purchase  \n",
       "0                       40  \n",
       "1                      338  \n",
       "2                       61  \n",
       "3                       42  \n",
       "4                      242  \n",
       "\n",
       "[5 rows x 78 columns]"
      ]
     },
     "execution_count": 11,
     "metadata": {},
     "output_type": "execute_result"
    }
   ],
   "source": [
    "retail_df.head()"
   ]
  },
  {
   "cell_type": "code",
   "execution_count": 12,
   "metadata": {},
   "outputs": [
    {
     "data": {
      "text/plain": [
       "(1000000, 78)"
      ]
     },
     "execution_count": 12,
     "metadata": {},
     "output_type": "execute_result"
    }
   ],
   "source": [
    "retail_df.shape"
   ]
  },
  {
   "cell_type": "code",
   "execution_count": 13,
   "metadata": {},
   "outputs": [
    {
     "data": {
      "application/vnd.microsoft.datawrangler.viewer.v0+json": {
       "columns": [
        {
         "name": "index",
         "rawType": "int64",
         "type": "integer"
        },
        {
         "name": "Column Name",
         "rawType": "object",
         "type": "string"
        },
        {
         "name": "Data Type",
         "rawType": "object",
         "type": "unknown"
        },
        {
         "name": "Null Count",
         "rawType": "int64",
         "type": "integer"
        },
        {
         "name": "Non-Null Count",
         "rawType": "int64",
         "type": "integer"
        },
        {
         "name": "Unique Count",
         "rawType": "int64",
         "type": "integer"
        }
       ],
       "conversionMethod": "pd.DataFrame",
       "ref": "72550fb5-9be4-4c2a-91ee-d84df1ebc20c",
       "rows": [
        [
         "0",
         "customer_id",
         "int64",
         "0",
         "1000000",
         "1000000"
        ],
        [
         "1",
         "age",
         "int64",
         "0",
         "1000000",
         "62"
        ],
        [
         "2",
         "gender",
         "object",
         "0",
         "1000000",
         "3"
        ],
        [
         "3",
         "income_bracket",
         "object",
         "0",
         "1000000",
         "3"
        ],
        [
         "4",
         "loyalty_program",
         "object",
         "0",
         "1000000",
         "2"
        ],
        [
         "5",
         "membership_years",
         "int64",
         "0",
         "1000000",
         "10"
        ],
        [
         "6",
         "churned",
         "object",
         "0",
         "1000000",
         "2"
        ],
        [
         "7",
         "marital_status",
         "object",
         "0",
         "1000000",
         "3"
        ],
        [
         "8",
         "number_of_children",
         "int64",
         "0",
         "1000000",
         "5"
        ],
        [
         "9",
         "education_level",
         "object",
         "0",
         "1000000",
         "4"
        ],
        [
         "10",
         "occupation",
         "object",
         "0",
         "1000000",
         "4"
        ],
        [
         "11",
         "transaction_id",
         "int64",
         "0",
         "1000000",
         "632576"
        ],
        [
         "12",
         "transaction_date",
         "object",
         "0",
         "1000000",
         "992231"
        ],
        [
         "13",
         "product_id",
         "int64",
         "0",
         "1000000",
         "9999"
        ],
        [
         "14",
         "product_category",
         "object",
         "0",
         "1000000",
         "5"
        ],
        [
         "15",
         "quantity",
         "int64",
         "0",
         "1000000",
         "9"
        ],
        [
         "16",
         "unit_price",
         "float64",
         "0",
         "1000000",
         "99896"
        ],
        [
         "17",
         "discount_applied",
         "float64",
         "0",
         "1000000",
         "51"
        ],
        [
         "18",
         "payment_method",
         "object",
         "0",
         "1000000",
         "4"
        ],
        [
         "19",
         "store_location",
         "object",
         "0",
         "1000000",
         "4"
        ],
        [
         "20",
         "transaction_hour",
         "int64",
         "0",
         "1000000",
         "24"
        ],
        [
         "21",
         "day_of_week",
         "object",
         "0",
         "1000000",
         "7"
        ],
        [
         "22",
         "week_of_year",
         "int64",
         "0",
         "1000000",
         "52"
        ],
        [
         "23",
         "month_of_year",
         "int64",
         "0",
         "1000000",
         "12"
        ],
        [
         "24",
         "avg_purchase_value",
         "float64",
         "0",
         "1000000",
         "49001"
        ],
        [
         "25",
         "purchase_frequency",
         "object",
         "0",
         "1000000",
         "4"
        ],
        [
         "26",
         "last_purchase_date",
         "object",
         "0",
         "1000000",
         "984242"
        ],
        [
         "27",
         "avg_discount_used",
         "float64",
         "0",
         "1000000",
         "51"
        ],
        [
         "28",
         "preferred_store",
         "object",
         "0",
         "1000000",
         "4"
        ],
        [
         "29",
         "online_purchases",
         "int64",
         "0",
         "1000000",
         "100"
        ],
        [
         "30",
         "in_store_purchases",
         "int64",
         "0",
         "1000000",
         "100"
        ],
        [
         "31",
         "avg_items_per_transaction",
         "float64",
         "0",
         "1000000",
         "901"
        ],
        [
         "32",
         "avg_transaction_value",
         "float64",
         "0",
         "1000000",
         "49001"
        ],
        [
         "33",
         "total_returned_items",
         "int64",
         "0",
         "1000000",
         "10"
        ],
        [
         "34",
         "total_returned_value",
         "float64",
         "0",
         "1000000",
         "99999"
        ],
        [
         "35",
         "total_sales",
         "float64",
         "0",
         "1000000",
         "629254"
        ],
        [
         "36",
         "total_transactions",
         "int64",
         "0",
         "1000000",
         "99"
        ],
        [
         "37",
         "total_items_purchased",
         "int64",
         "0",
         "1000000",
         "499"
        ],
        [
         "38",
         "total_discounts_received",
         "float64",
         "0",
         "1000000",
         "99995"
        ],
        [
         "39",
         "avg_spent_per_category",
         "float64",
         "0",
         "1000000",
         "98999"
        ],
        [
         "40",
         "max_single_purchase_value",
         "float64",
         "0",
         "1000000",
         "99001"
        ],
        [
         "41",
         "min_single_purchase_value",
         "float64",
         "0",
         "1000000",
         "991"
        ],
        [
         "42",
         "product_name",
         "object",
         "0",
         "1000000",
         "4"
        ],
        [
         "43",
         "product_brand",
         "object",
         "0",
         "1000000",
         "3"
        ],
        [
         "44",
         "product_rating",
         "float64",
         "0",
         "1000000",
         "41"
        ],
        [
         "45",
         "product_review_count",
         "int64",
         "0",
         "1000000",
         "1000"
        ],
        [
         "46",
         "product_stock",
         "int64",
         "0",
         "1000000",
         "100"
        ],
        [
         "47",
         "product_return_rate",
         "float64",
         "0",
         "1000000",
         "51"
        ],
        [
         "48",
         "product_size",
         "object",
         "0",
         "1000000",
         "3"
        ],
        [
         "49",
         "product_weight",
         "float64",
         "0",
         "1000000",
         "991"
        ]
       ],
       "shape": {
        "columns": 5,
        "rows": 78
       }
      },
      "text/html": [
       "<div>\n",
       "<style scoped>\n",
       "    .dataframe tbody tr th:only-of-type {\n",
       "        vertical-align: middle;\n",
       "    }\n",
       "\n",
       "    .dataframe tbody tr th {\n",
       "        vertical-align: top;\n",
       "    }\n",
       "\n",
       "    .dataframe thead th {\n",
       "        text-align: right;\n",
       "    }\n",
       "</style>\n",
       "<table border=\"1\" class=\"dataframe\">\n",
       "  <thead>\n",
       "    <tr style=\"text-align: right;\">\n",
       "      <th></th>\n",
       "      <th>Column Name</th>\n",
       "      <th>Data Type</th>\n",
       "      <th>Null Count</th>\n",
       "      <th>Non-Null Count</th>\n",
       "      <th>Unique Count</th>\n",
       "    </tr>\n",
       "  </thead>\n",
       "  <tbody>\n",
       "    <tr>\n",
       "      <th>0</th>\n",
       "      <td>customer_id</td>\n",
       "      <td>int64</td>\n",
       "      <td>0</td>\n",
       "      <td>1000000</td>\n",
       "      <td>1000000</td>\n",
       "    </tr>\n",
       "    <tr>\n",
       "      <th>1</th>\n",
       "      <td>age</td>\n",
       "      <td>int64</td>\n",
       "      <td>0</td>\n",
       "      <td>1000000</td>\n",
       "      <td>62</td>\n",
       "    </tr>\n",
       "    <tr>\n",
       "      <th>2</th>\n",
       "      <td>gender</td>\n",
       "      <td>object</td>\n",
       "      <td>0</td>\n",
       "      <td>1000000</td>\n",
       "      <td>3</td>\n",
       "    </tr>\n",
       "    <tr>\n",
       "      <th>3</th>\n",
       "      <td>income_bracket</td>\n",
       "      <td>object</td>\n",
       "      <td>0</td>\n",
       "      <td>1000000</td>\n",
       "      <td>3</td>\n",
       "    </tr>\n",
       "    <tr>\n",
       "      <th>4</th>\n",
       "      <td>loyalty_program</td>\n",
       "      <td>object</td>\n",
       "      <td>0</td>\n",
       "      <td>1000000</td>\n",
       "      <td>2</td>\n",
       "    </tr>\n",
       "    <tr>\n",
       "      <th>...</th>\n",
       "      <td>...</td>\n",
       "      <td>...</td>\n",
       "      <td>...</td>\n",
       "      <td>...</td>\n",
       "      <td>...</td>\n",
       "    </tr>\n",
       "    <tr>\n",
       "      <th>73</th>\n",
       "      <td>email_subscriptions</td>\n",
       "      <td>object</td>\n",
       "      <td>0</td>\n",
       "      <td>1000000</td>\n",
       "      <td>2</td>\n",
       "    </tr>\n",
       "    <tr>\n",
       "      <th>74</th>\n",
       "      <td>app_usage</td>\n",
       "      <td>object</td>\n",
       "      <td>0</td>\n",
       "      <td>1000000</td>\n",
       "      <td>3</td>\n",
       "    </tr>\n",
       "    <tr>\n",
       "      <th>75</th>\n",
       "      <td>website_visits</td>\n",
       "      <td>int64</td>\n",
       "      <td>0</td>\n",
       "      <td>1000000</td>\n",
       "      <td>100</td>\n",
       "    </tr>\n",
       "    <tr>\n",
       "      <th>76</th>\n",
       "      <td>social_media_engagement</td>\n",
       "      <td>object</td>\n",
       "      <td>0</td>\n",
       "      <td>1000000</td>\n",
       "      <td>3</td>\n",
       "    </tr>\n",
       "    <tr>\n",
       "      <th>77</th>\n",
       "      <td>days_since_last_purchase</td>\n",
       "      <td>int64</td>\n",
       "      <td>0</td>\n",
       "      <td>1000000</td>\n",
       "      <td>365</td>\n",
       "    </tr>\n",
       "  </tbody>\n",
       "</table>\n",
       "<p>78 rows × 5 columns</p>\n",
       "</div>"
      ],
      "text/plain": [
       "                 Column Name Data Type  Null Count  Non-Null Count  \\\n",
       "0                customer_id     int64           0         1000000   \n",
       "1                        age     int64           0         1000000   \n",
       "2                     gender    object           0         1000000   \n",
       "3             income_bracket    object           0         1000000   \n",
       "4            loyalty_program    object           0         1000000   \n",
       "..                       ...       ...         ...             ...   \n",
       "73       email_subscriptions    object           0         1000000   \n",
       "74                 app_usage    object           0         1000000   \n",
       "75            website_visits     int64           0         1000000   \n",
       "76   social_media_engagement    object           0         1000000   \n",
       "77  days_since_last_purchase     int64           0         1000000   \n",
       "\n",
       "    Unique Count  \n",
       "0        1000000  \n",
       "1             62  \n",
       "2              3  \n",
       "3              3  \n",
       "4              2  \n",
       "..           ...  \n",
       "73             2  \n",
       "74             3  \n",
       "75           100  \n",
       "76             3  \n",
       "77           365  \n",
       "\n",
       "[78 rows x 5 columns]"
      ]
     },
     "execution_count": 13,
     "metadata": {},
     "output_type": "execute_result"
    }
   ],
   "source": [
    "summarize_dataframe(retail_df)"
   ]
  },
  {
   "cell_type": "code",
   "execution_count": 14,
   "metadata": {},
   "outputs": [
    {
     "data": {
      "application/vnd.microsoft.datawrangler.viewer.v0+json": {
       "columns": [
        {
         "name": "index",
         "rawType": "int64",
         "type": "integer"
        },
        {
         "name": "customer_id",
         "rawType": "int64",
         "type": "integer"
        },
        {
         "name": "age",
         "rawType": "int64",
         "type": "integer"
        },
        {
         "name": "gender",
         "rawType": "object",
         "type": "string"
        },
        {
         "name": "income_bracket",
         "rawType": "object",
         "type": "string"
        },
        {
         "name": "loyalty_program",
         "rawType": "object",
         "type": "string"
        },
        {
         "name": "membership_years",
         "rawType": "int64",
         "type": "integer"
        },
        {
         "name": "churned",
         "rawType": "object",
         "type": "string"
        },
        {
         "name": "marital_status",
         "rawType": "object",
         "type": "string"
        },
        {
         "name": "number_of_children",
         "rawType": "int64",
         "type": "integer"
        },
        {
         "name": "education_level",
         "rawType": "object",
         "type": "string"
        },
        {
         "name": "occupation",
         "rawType": "object",
         "type": "string"
        },
        {
         "name": "transaction_id",
         "rawType": "int64",
         "type": "integer"
        },
        {
         "name": "transaction_date",
         "rawType": "object",
         "type": "string"
        },
        {
         "name": "product_id",
         "rawType": "int64",
         "type": "integer"
        },
        {
         "name": "product_category",
         "rawType": "object",
         "type": "string"
        },
        {
         "name": "quantity",
         "rawType": "int64",
         "type": "integer"
        },
        {
         "name": "unit_price",
         "rawType": "float64",
         "type": "float"
        },
        {
         "name": "discount_applied",
         "rawType": "float64",
         "type": "float"
        },
        {
         "name": "payment_method",
         "rawType": "object",
         "type": "string"
        },
        {
         "name": "store_location",
         "rawType": "object",
         "type": "string"
        },
        {
         "name": "transaction_hour",
         "rawType": "int64",
         "type": "integer"
        },
        {
         "name": "day_of_week",
         "rawType": "object",
         "type": "string"
        },
        {
         "name": "week_of_year",
         "rawType": "int64",
         "type": "integer"
        },
        {
         "name": "month_of_year",
         "rawType": "int64",
         "type": "integer"
        },
        {
         "name": "avg_purchase_value",
         "rawType": "float64",
         "type": "float"
        },
        {
         "name": "purchase_frequency",
         "rawType": "object",
         "type": "string"
        },
        {
         "name": "last_purchase_date",
         "rawType": "object",
         "type": "string"
        },
        {
         "name": "avg_discount_used",
         "rawType": "float64",
         "type": "float"
        },
        {
         "name": "preferred_store",
         "rawType": "object",
         "type": "string"
        },
        {
         "name": "online_purchases",
         "rawType": "int64",
         "type": "integer"
        },
        {
         "name": "in_store_purchases",
         "rawType": "int64",
         "type": "integer"
        },
        {
         "name": "avg_items_per_transaction",
         "rawType": "float64",
         "type": "float"
        },
        {
         "name": "avg_transaction_value",
         "rawType": "float64",
         "type": "float"
        },
        {
         "name": "total_returned_items",
         "rawType": "int64",
         "type": "integer"
        },
        {
         "name": "total_returned_value",
         "rawType": "float64",
         "type": "float"
        },
        {
         "name": "total_sales",
         "rawType": "float64",
         "type": "float"
        },
        {
         "name": "total_transactions",
         "rawType": "int64",
         "type": "integer"
        },
        {
         "name": "total_items_purchased",
         "rawType": "int64",
         "type": "integer"
        },
        {
         "name": "total_discounts_received",
         "rawType": "float64",
         "type": "float"
        },
        {
         "name": "avg_spent_per_category",
         "rawType": "float64",
         "type": "float"
        },
        {
         "name": "max_single_purchase_value",
         "rawType": "float64",
         "type": "float"
        },
        {
         "name": "min_single_purchase_value",
         "rawType": "float64",
         "type": "float"
        },
        {
         "name": "product_name",
         "rawType": "object",
         "type": "string"
        },
        {
         "name": "product_brand",
         "rawType": "object",
         "type": "string"
        },
        {
         "name": "product_rating",
         "rawType": "float64",
         "type": "float"
        },
        {
         "name": "product_review_count",
         "rawType": "int64",
         "type": "integer"
        },
        {
         "name": "product_stock",
         "rawType": "int64",
         "type": "integer"
        },
        {
         "name": "product_return_rate",
         "rawType": "float64",
         "type": "float"
        },
        {
         "name": "product_size",
         "rawType": "object",
         "type": "string"
        },
        {
         "name": "product_weight",
         "rawType": "float64",
         "type": "float"
        },
        {
         "name": "product_color",
         "rawType": "object",
         "type": "string"
        },
        {
         "name": "product_material",
         "rawType": "object",
         "type": "string"
        },
        {
         "name": "product_manufacture_date",
         "rawType": "object",
         "type": "string"
        },
        {
         "name": "product_expiry_date",
         "rawType": "object",
         "type": "string"
        },
        {
         "name": "product_shelf_life",
         "rawType": "int64",
         "type": "integer"
        },
        {
         "name": "promotion_id",
         "rawType": "int64",
         "type": "integer"
        },
        {
         "name": "promotion_type",
         "rawType": "object",
         "type": "string"
        },
        {
         "name": "promotion_start_date",
         "rawType": "object",
         "type": "string"
        },
        {
         "name": "promotion_end_date",
         "rawType": "object",
         "type": "string"
        },
        {
         "name": "promotion_effectiveness",
         "rawType": "object",
         "type": "string"
        },
        {
         "name": "promotion_channel",
         "rawType": "object",
         "type": "string"
        },
        {
         "name": "promotion_target_audience",
         "rawType": "object",
         "type": "string"
        },
        {
         "name": "customer_zip_code",
         "rawType": "int64",
         "type": "integer"
        },
        {
         "name": "customer_city",
         "rawType": "object",
         "type": "string"
        },
        {
         "name": "customer_state",
         "rawType": "object",
         "type": "string"
        },
        {
         "name": "store_zip_code",
         "rawType": "int64",
         "type": "integer"
        },
        {
         "name": "store_city",
         "rawType": "object",
         "type": "string"
        },
        {
         "name": "store_state",
         "rawType": "object",
         "type": "string"
        },
        {
         "name": "distance_to_store",
         "rawType": "float64",
         "type": "float"
        },
        {
         "name": "holiday_season",
         "rawType": "object",
         "type": "string"
        },
        {
         "name": "season",
         "rawType": "object",
         "type": "string"
        },
        {
         "name": "weekend",
         "rawType": "object",
         "type": "string"
        },
        {
         "name": "customer_support_calls",
         "rawType": "int64",
         "type": "integer"
        },
        {
         "name": "email_subscriptions",
         "rawType": "object",
         "type": "string"
        },
        {
         "name": "app_usage",
         "rawType": "object",
         "type": "string"
        },
        {
         "name": "website_visits",
         "rawType": "int64",
         "type": "integer"
        },
        {
         "name": "social_media_engagement",
         "rawType": "object",
         "type": "string"
        },
        {
         "name": "days_since_last_purchase",
         "rawType": "int64",
         "type": "integer"
        }
       ],
       "conversionMethod": "pd.DataFrame",
       "ref": "f3f904d8-4ace-4a3f-b775-8042b91f70ed",
       "rows": [
        [
         "0",
         "1",
         "56",
         "Other",
         "High",
         "No",
         "0",
         "No",
         "Divorced",
         "3",
         "Bachelor's",
         "Self-Employed",
         "503290",
         "2020-10-11 10:08:52",
         "1480",
         "Electronics",
         "8",
         "49.72",
         "0.5",
         "Credit Card",
         "Location A",
         "18",
         "Wednesday",
         "27",
         "7",
         "411.13",
         "Weekly",
         "2021-09-11 04:22:38",
         "0.02",
         "Location A",
         "55",
         "86",
         "8.64",
         "171.83",
         "0",
         "750.4",
         "563.16",
         "69",
         "367",
         "415.01",
         "114.28",
         "679.25",
         "0.28",
         "Product D",
         "Brand Y",
         "2.5",
         "560",
         "48",
         "0.4",
         "Small",
         "4.61",
         "Red",
         "Metal",
         "2019-08-04 01:47:01",
         "2022-05-28 14:54:02",
         "250",
         "271",
         "20% Off",
         "2021-07-14 14:28:42",
         "2022-12-30 13:04:13",
         "High",
         "Online",
         "New Customers",
         "37848",
         "City D",
         "State Y",
         "88500",
         "City D",
         "State Y",
         "33.21",
         "No",
         "Spring",
         "Yes",
         "5",
         "No",
         "High",
         "30",
         "High",
         "40"
        ],
        [
         "1",
         "2",
         "69",
         "Female",
         "Medium",
         "No",
         "2",
         "No",
         "Married",
         "2",
         "PhD",
         "Unemployed",
         "347796",
         "2021-12-08 01:07:40",
         "1597",
         "Groceries",
         "7",
         "817.76",
         "0.32",
         "Credit Card",
         "Location C",
         "15",
         "Friday",
         "20",
         "2",
         "268.71",
         "Daily",
         "2021-05-16 12:01:16",
         "0.33",
         "Location C",
         "48",
         "2",
         "9.6",
         "20.18",
         "4",
         "551.6",
         "7554.57",
         "8",
         "475",
         "801.79",
         "305.95",
         "491.56",
         "4.65",
         "Product C",
         "Brand X",
         "4.7",
         "413",
         "80",
         "0.3",
         "Medium",
         "0.84",
         "Blue",
         "Metal",
         "2019-10-23 19:59:17",
         "2022-12-19 08:04:41",
         "180",
         "631",
         "Flash Sale",
         "2021-09-23 04:26:09",
         "2022-09-13 03:16:26",
         "Low",
         "Social Media",
         "New Customers",
         "44896",
         "City A",
         "State X",
         "30046",
         "City C",
         "State X",
         "62.56",
         "No",
         "Summer",
         "Yes",
         "6",
         "No",
         "High",
         "40",
         "Medium",
         "338"
        ],
        [
         "2",
         "3",
         "46",
         "Female",
         "Low",
         "No",
         "5",
         "No",
         "Married",
         "3",
         "Bachelor's",
         "Self-Employed",
         "493688",
         "2020-02-17 09:40:48",
         "5142",
         "Toys",
         "8",
         "270.3",
         "0.35",
         "Debit Card",
         "Location A",
         "9",
         "Saturday",
         "35",
         "6",
         "246.79",
         "Weekly",
         "2021-02-07 16:47:48",
         "0.47",
         "Location B",
         "16",
         "45",
         "1.55",
         "55.17",
         "0",
         "629.19",
         "7564.14",
         "73",
         "138",
         "264.31",
         "426.7",
         "938.26",
         "7.3",
         "Product B",
         "Brand X",
         "4.6",
         "312",
         "14",
         "0.08",
         "Medium",
         "0.23",
         "Green",
         "Plastic",
         "2018-05-12 08:00:29",
         "2023-02-01 12:15:07",
         "131",
         "879",
         "Flash Sale",
         "2021-06-13 12:31:15",
         "2022-03-13 00:53:35",
         "Low",
         "Online",
         "New Customers",
         "11816",
         "City B",
         "State X",
         "26169",
         "City A",
         "State Y",
         "83.04",
         "Yes",
         "Winter",
         "Yes",
         "2",
         "Yes",
         "Low",
         "89",
         "Medium",
         "61"
        ],
        [
         "3",
         "4",
         "32",
         "Female",
         "Low",
         "No",
         "0",
         "No",
         "Divorced",
         "2",
         "Master's",
         "Employed",
         "861348",
         "2020-08-13 00:43:14",
         "8447",
         "Toys",
         "2",
         "547.84",
         "0.1",
         "Credit Card",
         "Location A",
         "13",
         "Friday",
         "42",
         "8",
         "178.92",
         "Weekly",
         "2021-12-30 23:48:26",
         "0.41",
         "Location B",
         "50",
         "47",
         "1.78",
         "15.79",
         "3",
         "346.67",
         "8125.92",
         "20",
         "158",
         "192.93",
         "689.58",
         "644.31",
         "7.31",
         "Product A",
         "Brand Z",
         "1.1",
         "110",
         "69",
         "0.09",
         "Large",
         "4.37",
         "Blue",
         "Wood",
         "2019-11-15 16:17:29",
         "2023-02-05 11:46:57",
         "16",
         "211",
         "Buy One Get One Free",
         "2021-05-23 05:42:48",
         "2022-02-06 00:42:30",
         "High",
         "Social Media",
         "Returning Customers",
         "78604",
         "City A",
         "State Y",
         "22667",
         "City B",
         "State Z",
         "50.43",
         "Yes",
         "Winter",
         "No",
         "12",
         "No",
         "Low",
         "12",
         "Low",
         "42"
        ],
        [
         "4",
         "5",
         "60",
         "Female",
         "Low",
         "Yes",
         "7",
         "Yes",
         "Divorced",
         "2",
         "Bachelor's",
         "Employed",
         "535835",
         "2021-07-02 11:59:03",
         "6025",
         "Clothing",
         "4",
         "785.29",
         "0.17",
         "Mobile Payment",
         "Location C",
         "17",
         "Monday",
         "37",
         "3",
         "214.06",
         "Yearly",
         "2021-11-02 11:48:25",
         "0.22",
         "Location B",
         "48",
         "42",
         "9.38",
         "240.03",
         "2",
         "979.91",
         "114.32",
         "83",
         "263",
         "497.26",
         "715.86",
         "162.86",
         "1.92",
         "Product C",
         "Brand X",
         "3.8",
         "172",
         "25",
         "0.39",
         "Small",
         "1.68",
         "Red",
         "Metal",
         "2019-08-27 02:58:19",
         "2023-10-05 08:13:07",
         "57",
         "862",
         "Flash Sale",
         "2021-04-19 04:55:32",
         "2022-12-04 13:07:09",
         "Medium",
         "Online",
         "New Customers",
         "17760",
         "City B",
         "State Z",
         "87843",
         "City C",
         "State X",
         "36.55",
         "Yes",
         "Summer",
         "Yes",
         "3",
         "No",
         "Medium",
         "31",
         "Low",
         "242"
        ]
       ],
       "shape": {
        "columns": 78,
        "rows": 5
       }
      },
      "text/html": [
       "<div>\n",
       "<style scoped>\n",
       "    .dataframe tbody tr th:only-of-type {\n",
       "        vertical-align: middle;\n",
       "    }\n",
       "\n",
       "    .dataframe tbody tr th {\n",
       "        vertical-align: top;\n",
       "    }\n",
       "\n",
       "    .dataframe thead th {\n",
       "        text-align: right;\n",
       "    }\n",
       "</style>\n",
       "<table border=\"1\" class=\"dataframe\">\n",
       "  <thead>\n",
       "    <tr style=\"text-align: right;\">\n",
       "      <th></th>\n",
       "      <th>customer_id</th>\n",
       "      <th>age</th>\n",
       "      <th>gender</th>\n",
       "      <th>income_bracket</th>\n",
       "      <th>loyalty_program</th>\n",
       "      <th>membership_years</th>\n",
       "      <th>churned</th>\n",
       "      <th>marital_status</th>\n",
       "      <th>number_of_children</th>\n",
       "      <th>education_level</th>\n",
       "      <th>...</th>\n",
       "      <th>distance_to_store</th>\n",
       "      <th>holiday_season</th>\n",
       "      <th>season</th>\n",
       "      <th>weekend</th>\n",
       "      <th>customer_support_calls</th>\n",
       "      <th>email_subscriptions</th>\n",
       "      <th>app_usage</th>\n",
       "      <th>website_visits</th>\n",
       "      <th>social_media_engagement</th>\n",
       "      <th>days_since_last_purchase</th>\n",
       "    </tr>\n",
       "  </thead>\n",
       "  <tbody>\n",
       "    <tr>\n",
       "      <th>0</th>\n",
       "      <td>1</td>\n",
       "      <td>56</td>\n",
       "      <td>Other</td>\n",
       "      <td>High</td>\n",
       "      <td>No</td>\n",
       "      <td>0</td>\n",
       "      <td>No</td>\n",
       "      <td>Divorced</td>\n",
       "      <td>3</td>\n",
       "      <td>Bachelor's</td>\n",
       "      <td>...</td>\n",
       "      <td>33.21</td>\n",
       "      <td>No</td>\n",
       "      <td>Spring</td>\n",
       "      <td>Yes</td>\n",
       "      <td>5</td>\n",
       "      <td>No</td>\n",
       "      <td>High</td>\n",
       "      <td>30</td>\n",
       "      <td>High</td>\n",
       "      <td>40</td>\n",
       "    </tr>\n",
       "    <tr>\n",
       "      <th>1</th>\n",
       "      <td>2</td>\n",
       "      <td>69</td>\n",
       "      <td>Female</td>\n",
       "      <td>Medium</td>\n",
       "      <td>No</td>\n",
       "      <td>2</td>\n",
       "      <td>No</td>\n",
       "      <td>Married</td>\n",
       "      <td>2</td>\n",
       "      <td>PhD</td>\n",
       "      <td>...</td>\n",
       "      <td>62.56</td>\n",
       "      <td>No</td>\n",
       "      <td>Summer</td>\n",
       "      <td>Yes</td>\n",
       "      <td>6</td>\n",
       "      <td>No</td>\n",
       "      <td>High</td>\n",
       "      <td>40</td>\n",
       "      <td>Medium</td>\n",
       "      <td>338</td>\n",
       "    </tr>\n",
       "    <tr>\n",
       "      <th>2</th>\n",
       "      <td>3</td>\n",
       "      <td>46</td>\n",
       "      <td>Female</td>\n",
       "      <td>Low</td>\n",
       "      <td>No</td>\n",
       "      <td>5</td>\n",
       "      <td>No</td>\n",
       "      <td>Married</td>\n",
       "      <td>3</td>\n",
       "      <td>Bachelor's</td>\n",
       "      <td>...</td>\n",
       "      <td>83.04</td>\n",
       "      <td>Yes</td>\n",
       "      <td>Winter</td>\n",
       "      <td>Yes</td>\n",
       "      <td>2</td>\n",
       "      <td>Yes</td>\n",
       "      <td>Low</td>\n",
       "      <td>89</td>\n",
       "      <td>Medium</td>\n",
       "      <td>61</td>\n",
       "    </tr>\n",
       "    <tr>\n",
       "      <th>3</th>\n",
       "      <td>4</td>\n",
       "      <td>32</td>\n",
       "      <td>Female</td>\n",
       "      <td>Low</td>\n",
       "      <td>No</td>\n",
       "      <td>0</td>\n",
       "      <td>No</td>\n",
       "      <td>Divorced</td>\n",
       "      <td>2</td>\n",
       "      <td>Master's</td>\n",
       "      <td>...</td>\n",
       "      <td>50.43</td>\n",
       "      <td>Yes</td>\n",
       "      <td>Winter</td>\n",
       "      <td>No</td>\n",
       "      <td>12</td>\n",
       "      <td>No</td>\n",
       "      <td>Low</td>\n",
       "      <td>12</td>\n",
       "      <td>Low</td>\n",
       "      <td>42</td>\n",
       "    </tr>\n",
       "    <tr>\n",
       "      <th>4</th>\n",
       "      <td>5</td>\n",
       "      <td>60</td>\n",
       "      <td>Female</td>\n",
       "      <td>Low</td>\n",
       "      <td>Yes</td>\n",
       "      <td>7</td>\n",
       "      <td>Yes</td>\n",
       "      <td>Divorced</td>\n",
       "      <td>2</td>\n",
       "      <td>Bachelor's</td>\n",
       "      <td>...</td>\n",
       "      <td>36.55</td>\n",
       "      <td>Yes</td>\n",
       "      <td>Summer</td>\n",
       "      <td>Yes</td>\n",
       "      <td>3</td>\n",
       "      <td>No</td>\n",
       "      <td>Medium</td>\n",
       "      <td>31</td>\n",
       "      <td>Low</td>\n",
       "      <td>242</td>\n",
       "    </tr>\n",
       "  </tbody>\n",
       "</table>\n",
       "<p>5 rows × 78 columns</p>\n",
       "</div>"
      ],
      "text/plain": [
       "   customer_id  age  gender income_bracket loyalty_program  membership_years  \\\n",
       "0            1   56   Other           High              No                 0   \n",
       "1            2   69  Female         Medium              No                 2   \n",
       "2            3   46  Female            Low              No                 5   \n",
       "3            4   32  Female            Low              No                 0   \n",
       "4            5   60  Female            Low             Yes                 7   \n",
       "\n",
       "  churned marital_status  number_of_children education_level  ...  \\\n",
       "0      No       Divorced                   3      Bachelor's  ...   \n",
       "1      No        Married                   2             PhD  ...   \n",
       "2      No        Married                   3      Bachelor's  ...   \n",
       "3      No       Divorced                   2        Master's  ...   \n",
       "4     Yes       Divorced                   2      Bachelor's  ...   \n",
       "\n",
       "  distance_to_store  holiday_season  season  weekend customer_support_calls  \\\n",
       "0             33.21              No  Spring      Yes                      5   \n",
       "1             62.56              No  Summer      Yes                      6   \n",
       "2             83.04             Yes  Winter      Yes                      2   \n",
       "3             50.43             Yes  Winter       No                     12   \n",
       "4             36.55             Yes  Summer      Yes                      3   \n",
       "\n",
       "   email_subscriptions  app_usage  website_visits social_media_engagement  \\\n",
       "0                   No       High              30                    High   \n",
       "1                   No       High              40                  Medium   \n",
       "2                  Yes        Low              89                  Medium   \n",
       "3                   No        Low              12                     Low   \n",
       "4                   No     Medium              31                     Low   \n",
       "\n",
       "  days_since_last_purchase  \n",
       "0                       40  \n",
       "1                      338  \n",
       "2                       61  \n",
       "3                       42  \n",
       "4                      242  \n",
       "\n",
       "[5 rows x 78 columns]"
      ]
     },
     "execution_count": 14,
     "metadata": {},
     "output_type": "execute_result"
    }
   ],
   "source": [
    "retail_df.iloc[:5]"
   ]
  },
  {
   "cell_type": "code",
   "execution_count": 15,
   "metadata": {},
   "outputs": [
    {
     "data": {
      "text/plain": [
       "Index(['customer_id', 'age', 'gender', 'income_bracket', 'loyalty_program',\n",
       "       'membership_years', 'churned', 'marital_status', 'number_of_children',\n",
       "       'education_level', 'occupation', 'transaction_id', 'transaction_date',\n",
       "       'product_id', 'product_category', 'quantity', 'unit_price',\n",
       "       'discount_applied', 'payment_method', 'store_location',\n",
       "       'transaction_hour', 'day_of_week', 'week_of_year', 'month_of_year',\n",
       "       'avg_purchase_value', 'purchase_frequency', 'last_purchase_date',\n",
       "       'avg_discount_used', 'preferred_store', 'online_purchases',\n",
       "       'in_store_purchases', 'avg_items_per_transaction',\n",
       "       'avg_transaction_value', 'total_returned_items', 'total_returned_value',\n",
       "       'total_sales', 'total_transactions', 'total_items_purchased',\n",
       "       'total_discounts_received', 'avg_spent_per_category',\n",
       "       'max_single_purchase_value', 'min_single_purchase_value',\n",
       "       'product_name', 'product_brand', 'product_rating',\n",
       "       'product_review_count', 'product_stock', 'product_return_rate',\n",
       "       'product_size', 'product_weight', 'product_color', 'product_material',\n",
       "       'product_manufacture_date', 'product_expiry_date', 'product_shelf_life',\n",
       "       'promotion_id', 'promotion_type', 'promotion_start_date',\n",
       "       'promotion_end_date', 'promotion_effectiveness', 'promotion_channel',\n",
       "       'promotion_target_audience', 'customer_zip_code', 'customer_city',\n",
       "       'customer_state', 'store_zip_code', 'store_city', 'store_state',\n",
       "       'distance_to_store', 'holiday_season', 'season', 'weekend',\n",
       "       'customer_support_calls', 'email_subscriptions', 'app_usage',\n",
       "       'website_visits', 'social_media_engagement',\n",
       "       'days_since_last_purchase'],\n",
       "      dtype='object')"
      ]
     },
     "execution_count": 15,
     "metadata": {},
     "output_type": "execute_result"
    }
   ],
   "source": [
    "retail_df.columns"
   ]
  },
  {
   "cell_type": "markdown",
   "metadata": {},
   "source": [
    "# Initial EDA Comments: Initial Observations of our data set\n",
    "\n",
    "    - Shape: 1000000 x 78. 1 M rows, 78 columns\n",
    "    - No columns have nulls / missing values.\n",
    "    - Names of all columns are lower case, with no spaces, and use underscore. Names of all columns seem nicely formatted."
   ]
  },
  {
   "cell_type": "markdown",
   "metadata": {},
   "source": [
    "# Business Logic and Data Issue Mitigation\n",
    "    Data does not have ground truth for Customer Lifetime Value (CLV) which is typically a formulaic calculation based on\n",
    "    Average Purchase Value x Purchase Frtequency x Customer Lifespan (CL)\n",
    "\n",
    "    CL does not exist in data, so we derive it from loyalty membership years using a conditional logic. \n",
    "    \n",
    "    Final CLV = mean of calucations from APV x PF x CL, and Total sales x CL. We also add some random noise to the calculated CLV to estimate final CLV for a sample. "
   ]
  },
  {
   "cell_type": "code",
   "execution_count": 16,
   "metadata": {},
   "outputs": [],
   "source": [
    "##Business logic calucation functions\n",
    "\n",
    "def calculate_CL(membership_years):\n",
    "    ## Caculates Customer lifespan in years\n",
    "    # from (loyalty) membership years.\n",
    "\n",
    "    #cl = customer lifespan in years (can be fraction)\n",
    "    cl = 0.0\n",
    "    #1 calcuate CLV1 from membership years\n",
    "    if (membership_years >= 7.0 ):\n",
    "        cl  = 0.6 * membership_years\n",
    "    elif (membership_years >= 4) & (membership_years < 7.0):\n",
    "        cl = 0.8 * membership_years\n",
    "    elif (membership_years > 0) & (membership_years < 4.0):\n",
    "        cl = 1 * membership_years\n",
    "    else:\n",
    "        cl = 0.5 # for loyalty membership =0 years \n",
    "    return cl\n",
    "\n",
    "def map_purchase_freq_to_nums(purchase_frequency):\n",
    "    ##takes in daily, weekly, yearly labels for purchase frequency\n",
    "    # and converts it to a number using a rules formula\n",
    "    frequency_map = {\n",
    "        'Daily': 365,\n",
    "        'Weekly': 52,\n",
    "        'Monthly': 12,\n",
    "        'Yearly': 1\n",
    "    }\n",
    "    return frequency_map.get(purchase_frequency)\n",
    "\n",
    "\n",
    "def calculate_CLV(average_purchase_value, purchase_frequency,customer_lifespan,total_sales, add_noise_std_dev=0.1):\n",
    "    ## calculates the (ground truth) customer lifetime value from\n",
    "    #average pruchase value, purchase frequency, and total sales\n",
    "\n",
    "    clv1 = float(average_purchase_value) * float(purchase_frequency) * float(customer_lifespan)\n",
    "    clv2 = total_sales * customer_lifespan\n",
    "    clv = (clv1 + clv2) / 2.0\n",
    "\n",
    "    #Now we will add some noise to the growth truth clv calculation\n",
    "    # Add Gaussian noise (normal distribution centered at 0, with standard deviation add_noise_std_dev * base calcuated clv)\n",
    "    noise = np.random.normal(0, add_noise_std_dev * clv)\n",
    "    clv = clv + noise\n",
    "\n",
    "    return clv"
   ]
  },
  {
   "cell_type": "code",
   "execution_count": 17,
   "metadata": {},
   "outputs": [],
   "source": [
    "#extract customer lifespan\n",
    "retail_df['customer_lifespan'] = retail_df['membership_years'].apply(calculate_CL)\n",
    "#convert purchase frequency to integer values\n",
    "retail_df['purchase_frequency'] = retail_df['purchase_frequency'].apply(map_purchase_freq_to_nums)"
   ]
  },
  {
   "cell_type": "code",
   "execution_count": 18,
   "metadata": {},
   "outputs": [
    {
     "data": {
      "image/png": "[encoded data removed]",
      "text/plain": [
       "<Figure size 640x480 with 1 Axes>"
      ]
     },
     "metadata": {},
     "output_type": "display_data"
    },
    {
     "name": "stdout",
     "output_type": "stream",
     "text": [
      "retail_df.shape =(1000000, 80)\n"
     ]
    }
   ],
   "source": [
    "#Cacluate customer_lifetime_value\n",
    "retail_df['customer_lifetime_value'] = retail_df.apply(lambda row: calculate_CLV(row['avg_purchase_value'],\n",
    "                                                                                 row['purchase_frequency'],\n",
    "                                                                                 row['customer_lifespan'],\n",
    "                                                                                 row['total_sales']), axis=1)\n",
    "mean_clv = retail_df['customer_lifetime_value'].mean()\n",
    "\n",
    "plt.clf()\n",
    "plt.hist(retail_df['customer_lifetime_value'], bins=75)\n",
    "plt.axvline(mean_clv, color='red', linestyle='dashed', linewidth=2, label=f'Mean CLV = {mean_clv:.2f}')\n",
    "plt.xlabel('Customer Lifetime Value')\n",
    "plt.title('Histogram of Customer Lifetime Values (Labels for our data)')\n",
    "plt.legend()\n",
    "plt.show()\n",
    "print(f\"{retail_df.shape =}\")"
   ]
  },
  {
   "cell_type": "markdown",
   "metadata": {},
   "source": [
    "# MILESTONE: we have our ground truth Y label (customer lifetime value)\n",
    "    1. Note: This ground truth Y label for customer lifetime value has some noise built into it. "
   ]
  },
  {
   "cell_type": "markdown",
   "metadata": {},
   "source": [
    "# Extract features for Lifetime value modeling"
   ]
  },
  {
   "cell_type": "code",
   "execution_count": 19,
   "metadata": {},
   "outputs": [],
   "source": [
    "## Select a random sample of RANDOM_SAMPLES_VAL (e.g. 100K) rows to make the ML model run on limited compute resources\n",
    "retail_df = retail_df.sample(n=RANDOM_SAMPLES_VAL, random_state=RANDOM_STATE)"
   ]
  },
  {
   "cell_type": "markdown",
   "metadata": {},
   "source": [
    "# FEATURE SELECTION based on domain knowledge\n",
    "Best 12 Features for Predicting Customer Lifetime Value (CLV), covering multiple aspects of customr value such as purchase value, purchase frequency, indicators for customer lifespan \n",
    "1.\tage – Age provides insights into the customer lifecycle and spending potential.\n",
    "2. income_bracket – Income levels are often correlated with purchasing power and customer lifetime value.\n",
    "3. loyalty_program – Participation in loyalty programs suggests customer commitment and a higher likelihood of repeat purchases.\n",
    "4. marital_status – Marital status can influence purchasing behavior and long-term retention.\n",
    "5. number_of_children – Families may have different buying patterns, contributing to future spending.\n",
    "6. education_level – Education can correlate with spending habits and overall purchasing behavior.\n",
    "7. occupation – Certain occupations may have higher or lower spending potential, which influences CLV.\n",
    "8. total_transactions – Total number of transactions is a strong indicator of past engagement, which can correlate with future value.\n",
    "9. total_items_purchased – Similar to total transactions, this feature reflects overall engagement and purchase habits.\n",
    "10. avg_discount_used – The amount of discounts used can influence future behavior, as customers who respond well to promotions might have a higher lifetime value.\n",
    "11. customer_support_calls – The frequency of customer support calls could indicate either problems or high engagement, both of which might affect long-term value.\n",
    "12. days_since_last_purchase – This metric is key for predicting future purchases and CLV, as recent customers are more likely to make another purchase.\n"
   ]
  },
  {
   "cell_type": "markdown",
   "metadata": {},
   "source": [
    "# \n",
    "    Note since we use average purchase value, purchase frequency, membership years, and total sales to calcuate our ground truth customer lifetime value for each customer, these features are not included to prevent data leakage.\n"
   ]
  },
  {
   "cell_type": "code",
   "execution_count": 20,
   "metadata": {},
   "outputs": [
    {
     "data": {
      "text/plain": [
       "(500000, 13)"
      ]
     },
     "execution_count": 20,
     "metadata": {},
     "output_type": "execute_result"
    }
   ],
   "source": [
    "desired_columns = ['age', 'income_bracket', 'loyalty_program', 'marital_status', 'number_of_children', \n",
    "                   'education_level', 'occupation', 'total_transactions', 'total_items_purchased', \n",
    "                   'avg_discount_used', 'customer_support_calls', 'days_since_last_purchase','customer_lifetime_value']\n",
    "lftv_data = retail_df[desired_columns]\n",
    "lftv_data.shape"
   ]
  },
  {
   "cell_type": "code",
   "execution_count": 21,
   "metadata": {},
   "outputs": [
    {
     "name": "stdout",
     "output_type": "stream",
     "text": [
      "                 Column Name Data Type  Null Count  Non-Null Count  \\\n",
      "0                        age     int64           0          500000   \n",
      "1             income_bracket    object           0          500000   \n",
      "2            loyalty_program    object           0          500000   \n",
      "3             marital_status    object           0          500000   \n",
      "4         number_of_children     int64           0          500000   \n",
      "5            education_level    object           0          500000   \n",
      "6                 occupation    object           0          500000   \n",
      "7         total_transactions     int64           0          500000   \n",
      "8      total_items_purchased     int64           0          500000   \n",
      "9          avg_discount_used   float64           0          500000   \n",
      "10    customer_support_calls     int64           0          500000   \n",
      "11  days_since_last_purchase     int64           0          500000   \n",
      "12   customer_lifetime_value   float64           0          500000   \n",
      "\n",
      "    Unique Count  \n",
      "0             62  \n",
      "1              3  \n",
      "2              2  \n",
      "3              3  \n",
      "4              5  \n",
      "5              4  \n",
      "6              4  \n",
      "7             99  \n",
      "8            499  \n",
      "9             51  \n",
      "10            20  \n",
      "11           365  \n",
      "12        500000  \n"
     ]
    }
   ],
   "source": [
    "print(summarize_dataframe(lftv_data))"
   ]
  },
  {
   "cell_type": "code",
   "execution_count": 22,
   "metadata": {},
   "outputs": [
    {
     "data": {
      "application/vnd.microsoft.datawrangler.viewer.v0+json": {
       "columns": [
        {
         "name": "index",
         "rawType": "int64",
         "type": "integer"
        },
        {
         "name": "age",
         "rawType": "int64",
         "type": "integer"
        },
        {
         "name": "income_bracket",
         "rawType": "object",
         "type": "string"
        },
        {
         "name": "loyalty_program",
         "rawType": "object",
         "type": "string"
        },
        {
         "name": "marital_status",
         "rawType": "object",
         "type": "string"
        },
        {
         "name": "number_of_children",
         "rawType": "int64",
         "type": "integer"
        },
        {
         "name": "education_level",
         "rawType": "object",
         "type": "string"
        },
        {
         "name": "occupation",
         "rawType": "object",
         "type": "string"
        },
        {
         "name": "total_transactions",
         "rawType": "int64",
         "type": "integer"
        },
        {
         "name": "total_items_purchased",
         "rawType": "int64",
         "type": "integer"
        },
        {
         "name": "avg_discount_used",
         "rawType": "float64",
         "type": "float"
        },
        {
         "name": "customer_support_calls",
         "rawType": "int64",
         "type": "integer"
        },
        {
         "name": "days_since_last_purchase",
         "rawType": "int64",
         "type": "integer"
        },
        {
         "name": "customer_lifetime_value",
         "rawType": "float64",
         "type": "float"
        }
       ],
       "conversionMethod": "pd.DataFrame",
       "ref": "0358bf55-f253-4edc-a912-81f09011a4c7",
       "rows": [
        [
         "987231",
         "60",
         "Medium",
         "Yes",
         "Divorced",
         "3",
         "Master's",
         "Unemployed",
         "9",
         "454",
         "0.49",
         "1",
         "329",
         "53550.406428219416"
        ],
        [
         "79954",
         "63",
         "Low",
         "No",
         "Single",
         "0",
         "High School",
         "Employed",
         "40",
         "455",
         "0.36",
         "3",
         "145",
         "4330.984419998885"
        ],
        [
         "567130",
         "72",
         "Medium",
         "Yes",
         "Single",
         "4",
         "High School",
         "Unemployed",
         "60",
         "493",
         "0.24",
         "14",
         "95",
         "4331.600283034767"
        ],
        [
         "500891",
         "34",
         "High",
         "Yes",
         "Divorced",
         "3",
         "Master's",
         "Employed",
         "11",
         "196",
         "0.43",
         "7",
         "124",
         "46932.81441769373"
        ],
        [
         "55399",
         "77",
         "Medium",
         "No",
         "Single",
         "4",
         "Master's",
         "Retired",
         "17",
         "35",
         "0.48",
         "17",
         "240",
         "112171.33370612067"
        ]
       ],
       "shape": {
        "columns": 13,
        "rows": 5
       }
      },
      "text/html": [
       "<div>\n",
       "<style scoped>\n",
       "    .dataframe tbody tr th:only-of-type {\n",
       "        vertical-align: middle;\n",
       "    }\n",
       "\n",
       "    .dataframe tbody tr th {\n",
       "        vertical-align: top;\n",
       "    }\n",
       "\n",
       "    .dataframe thead th {\n",
       "        text-align: right;\n",
       "    }\n",
       "</style>\n",
       "<table border=\"1\" class=\"dataframe\">\n",
       "  <thead>\n",
       "    <tr style=\"text-align: right;\">\n",
       "      <th></th>\n",
       "      <th>age</th>\n",
       "      <th>income_bracket</th>\n",
       "      <th>loyalty_program</th>\n",
       "      <th>marital_status</th>\n",
       "      <th>number_of_children</th>\n",
       "      <th>education_level</th>\n",
       "      <th>occupation</th>\n",
       "      <th>total_transactions</th>\n",
       "      <th>total_items_purchased</th>\n",
       "      <th>avg_discount_used</th>\n",
       "      <th>customer_support_calls</th>\n",
       "      <th>days_since_last_purchase</th>\n",
       "      <th>customer_lifetime_value</th>\n",
       "    </tr>\n",
       "  </thead>\n",
       "  <tbody>\n",
       "    <tr>\n",
       "      <th>987231</th>\n",
       "      <td>60</td>\n",
       "      <td>Medium</td>\n",
       "      <td>Yes</td>\n",
       "      <td>Divorced</td>\n",
       "      <td>3</td>\n",
       "      <td>Master's</td>\n",
       "      <td>Unemployed</td>\n",
       "      <td>9</td>\n",
       "      <td>454</td>\n",
       "      <td>0.49</td>\n",
       "      <td>1</td>\n",
       "      <td>329</td>\n",
       "      <td>53550.406428</td>\n",
       "    </tr>\n",
       "    <tr>\n",
       "      <th>79954</th>\n",
       "      <td>63</td>\n",
       "      <td>Low</td>\n",
       "      <td>No</td>\n",
       "      <td>Single</td>\n",
       "      <td>0</td>\n",
       "      <td>High School</td>\n",
       "      <td>Employed</td>\n",
       "      <td>40</td>\n",
       "      <td>455</td>\n",
       "      <td>0.36</td>\n",
       "      <td>3</td>\n",
       "      <td>145</td>\n",
       "      <td>4330.984420</td>\n",
       "    </tr>\n",
       "    <tr>\n",
       "      <th>567130</th>\n",
       "      <td>72</td>\n",
       "      <td>Medium</td>\n",
       "      <td>Yes</td>\n",
       "      <td>Single</td>\n",
       "      <td>4</td>\n",
       "      <td>High School</td>\n",
       "      <td>Unemployed</td>\n",
       "      <td>60</td>\n",
       "      <td>493</td>\n",
       "      <td>0.24</td>\n",
       "      <td>14</td>\n",
       "      <td>95</td>\n",
       "      <td>4331.600283</td>\n",
       "    </tr>\n",
       "    <tr>\n",
       "      <th>500891</th>\n",
       "      <td>34</td>\n",
       "      <td>High</td>\n",
       "      <td>Yes</td>\n",
       "      <td>Divorced</td>\n",
       "      <td>3</td>\n",
       "      <td>Master's</td>\n",
       "      <td>Employed</td>\n",
       "      <td>11</td>\n",
       "      <td>196</td>\n",
       "      <td>0.43</td>\n",
       "      <td>7</td>\n",
       "      <td>124</td>\n",
       "      <td>46932.814418</td>\n",
       "    </tr>\n",
       "    <tr>\n",
       "      <th>55399</th>\n",
       "      <td>77</td>\n",
       "      <td>Medium</td>\n",
       "      <td>No</td>\n",
       "      <td>Single</td>\n",
       "      <td>4</td>\n",
       "      <td>Master's</td>\n",
       "      <td>Retired</td>\n",
       "      <td>17</td>\n",
       "      <td>35</td>\n",
       "      <td>0.48</td>\n",
       "      <td>17</td>\n",
       "      <td>240</td>\n",
       "      <td>112171.333706</td>\n",
       "    </tr>\n",
       "  </tbody>\n",
       "</table>\n",
       "</div>"
      ],
      "text/plain": [
       "        age income_bracket loyalty_program marital_status  number_of_children  \\\n",
       "987231   60         Medium             Yes       Divorced                   3   \n",
       "79954    63            Low              No         Single                   0   \n",
       "567130   72         Medium             Yes         Single                   4   \n",
       "500891   34           High             Yes       Divorced                   3   \n",
       "55399    77         Medium              No         Single                   4   \n",
       "\n",
       "       education_level  occupation  total_transactions  total_items_purchased  \\\n",
       "987231        Master's  Unemployed                   9                    454   \n",
       "79954      High School    Employed                  40                    455   \n",
       "567130     High School  Unemployed                  60                    493   \n",
       "500891        Master's    Employed                  11                    196   \n",
       "55399         Master's     Retired                  17                     35   \n",
       "\n",
       "        avg_discount_used  customer_support_calls  days_since_last_purchase  \\\n",
       "987231               0.49                       1                       329   \n",
       "79954                0.36                       3                       145   \n",
       "567130               0.24                      14                        95   \n",
       "500891               0.43                       7                       124   \n",
       "55399                0.48                      17                       240   \n",
       "\n",
       "        customer_lifetime_value  \n",
       "987231             53550.406428  \n",
       "79954               4330.984420  \n",
       "567130              4331.600283  \n",
       "500891             46932.814418  \n",
       "55399             112171.333706  "
      ]
     },
     "execution_count": 22,
     "metadata": {},
     "output_type": "execute_result"
    }
   ],
   "source": [
    "lftv_data.head()"
   ]
  },
  {
   "cell_type": "code",
   "execution_count": 23,
   "metadata": {},
   "outputs": [
    {
     "data": {
      "application/vnd.microsoft.datawrangler.viewer.v0+json": {
       "columns": [
        {
         "name": "index",
         "rawType": "int64",
         "type": "integer"
        },
        {
         "name": "Column Name",
         "rawType": "object",
         "type": "string"
        },
        {
         "name": "Data Type",
         "rawType": "object",
         "type": "unknown"
        },
        {
         "name": "Null Count",
         "rawType": "int64",
         "type": "integer"
        },
        {
         "name": "Non-Null Count",
         "rawType": "int64",
         "type": "integer"
        },
        {
         "name": "Unique Count",
         "rawType": "int64",
         "type": "integer"
        }
       ],
       "conversionMethod": "pd.DataFrame",
       "ref": "69240e18-3df5-4103-8f1e-568648c0cb02",
       "rows": [
        [
         "0",
         "age",
         "int64",
         "0",
         "500000",
         "62"
        ],
        [
         "1",
         "income_bracket",
         "object",
         "0",
         "500000",
         "3"
        ],
        [
         "2",
         "loyalty_program",
         "object",
         "0",
         "500000",
         "2"
        ],
        [
         "3",
         "marital_status",
         "object",
         "0",
         "500000",
         "3"
        ],
        [
         "4",
         "number_of_children",
         "int64",
         "0",
         "500000",
         "5"
        ],
        [
         "5",
         "education_level",
         "object",
         "0",
         "500000",
         "4"
        ],
        [
         "6",
         "occupation",
         "object",
         "0",
         "500000",
         "4"
        ],
        [
         "7",
         "total_transactions",
         "int64",
         "0",
         "500000",
         "99"
        ],
        [
         "8",
         "total_items_purchased",
         "int64",
         "0",
         "500000",
         "499"
        ],
        [
         "9",
         "avg_discount_used",
         "float64",
         "0",
         "500000",
         "51"
        ],
        [
         "10",
         "customer_support_calls",
         "int64",
         "0",
         "500000",
         "20"
        ],
        [
         "11",
         "days_since_last_purchase",
         "int64",
         "0",
         "500000",
         "365"
        ],
        [
         "12",
         "customer_lifetime_value",
         "float64",
         "0",
         "500000",
         "500000"
        ]
       ],
       "shape": {
        "columns": 5,
        "rows": 13
       }
      },
      "text/html": [
       "<div>\n",
       "<style scoped>\n",
       "    .dataframe tbody tr th:only-of-type {\n",
       "        vertical-align: middle;\n",
       "    }\n",
       "\n",
       "    .dataframe tbody tr th {\n",
       "        vertical-align: top;\n",
       "    }\n",
       "\n",
       "    .dataframe thead th {\n",
       "        text-align: right;\n",
       "    }\n",
       "</style>\n",
       "<table border=\"1\" class=\"dataframe\">\n",
       "  <thead>\n",
       "    <tr style=\"text-align: right;\">\n",
       "      <th></th>\n",
       "      <th>Column Name</th>\n",
       "      <th>Data Type</th>\n",
       "      <th>Null Count</th>\n",
       "      <th>Non-Null Count</th>\n",
       "      <th>Unique Count</th>\n",
       "    </tr>\n",
       "  </thead>\n",
       "  <tbody>\n",
       "    <tr>\n",
       "      <th>0</th>\n",
       "      <td>age</td>\n",
       "      <td>int64</td>\n",
       "      <td>0</td>\n",
       "      <td>500000</td>\n",
       "      <td>62</td>\n",
       "    </tr>\n",
       "    <tr>\n",
       "      <th>1</th>\n",
       "      <td>income_bracket</td>\n",
       "      <td>object</td>\n",
       "      <td>0</td>\n",
       "      <td>500000</td>\n",
       "      <td>3</td>\n",
       "    </tr>\n",
       "    <tr>\n",
       "      <th>2</th>\n",
       "      <td>loyalty_program</td>\n",
       "      <td>object</td>\n",
       "      <td>0</td>\n",
       "      <td>500000</td>\n",
       "      <td>2</td>\n",
       "    </tr>\n",
       "    <tr>\n",
       "      <th>3</th>\n",
       "      <td>marital_status</td>\n",
       "      <td>object</td>\n",
       "      <td>0</td>\n",
       "      <td>500000</td>\n",
       "      <td>3</td>\n",
       "    </tr>\n",
       "    <tr>\n",
       "      <th>4</th>\n",
       "      <td>number_of_children</td>\n",
       "      <td>int64</td>\n",
       "      <td>0</td>\n",
       "      <td>500000</td>\n",
       "      <td>5</td>\n",
       "    </tr>\n",
       "    <tr>\n",
       "      <th>5</th>\n",
       "      <td>education_level</td>\n",
       "      <td>object</td>\n",
       "      <td>0</td>\n",
       "      <td>500000</td>\n",
       "      <td>4</td>\n",
       "    </tr>\n",
       "    <tr>\n",
       "      <th>6</th>\n",
       "      <td>occupation</td>\n",
       "      <td>object</td>\n",
       "      <td>0</td>\n",
       "      <td>500000</td>\n",
       "      <td>4</td>\n",
       "    </tr>\n",
       "    <tr>\n",
       "      <th>7</th>\n",
       "      <td>total_transactions</td>\n",
       "      <td>int64</td>\n",
       "      <td>0</td>\n",
       "      <td>500000</td>\n",
       "      <td>99</td>\n",
       "    </tr>\n",
       "    <tr>\n",
       "      <th>8</th>\n",
       "      <td>total_items_purchased</td>\n",
       "      <td>int64</td>\n",
       "      <td>0</td>\n",
       "      <td>500000</td>\n",
       "      <td>499</td>\n",
       "    </tr>\n",
       "    <tr>\n",
       "      <th>9</th>\n",
       "      <td>avg_discount_used</td>\n",
       "      <td>float64</td>\n",
       "      <td>0</td>\n",
       "      <td>500000</td>\n",
       "      <td>51</td>\n",
       "    </tr>\n",
       "    <tr>\n",
       "      <th>10</th>\n",
       "      <td>customer_support_calls</td>\n",
       "      <td>int64</td>\n",
       "      <td>0</td>\n",
       "      <td>500000</td>\n",
       "      <td>20</td>\n",
       "    </tr>\n",
       "    <tr>\n",
       "      <th>11</th>\n",
       "      <td>days_since_last_purchase</td>\n",
       "      <td>int64</td>\n",
       "      <td>0</td>\n",
       "      <td>500000</td>\n",
       "      <td>365</td>\n",
       "    </tr>\n",
       "    <tr>\n",
       "      <th>12</th>\n",
       "      <td>customer_lifetime_value</td>\n",
       "      <td>float64</td>\n",
       "      <td>0</td>\n",
       "      <td>500000</td>\n",
       "      <td>500000</td>\n",
       "    </tr>\n",
       "  </tbody>\n",
       "</table>\n",
       "</div>"
      ],
      "text/plain": [
       "                 Column Name Data Type  Null Count  Non-Null Count  \\\n",
       "0                        age     int64           0          500000   \n",
       "1             income_bracket    object           0          500000   \n",
       "2            loyalty_program    object           0          500000   \n",
       "3             marital_status    object           0          500000   \n",
       "4         number_of_children     int64           0          500000   \n",
       "5            education_level    object           0          500000   \n",
       "6                 occupation    object           0          500000   \n",
       "7         total_transactions     int64           0          500000   \n",
       "8      total_items_purchased     int64           0          500000   \n",
       "9          avg_discount_used   float64           0          500000   \n",
       "10    customer_support_calls     int64           0          500000   \n",
       "11  days_since_last_purchase     int64           0          500000   \n",
       "12   customer_lifetime_value   float64           0          500000   \n",
       "\n",
       "    Unique Count  \n",
       "0             62  \n",
       "1              3  \n",
       "2              2  \n",
       "3              3  \n",
       "4              5  \n",
       "5              4  \n",
       "6              4  \n",
       "7             99  \n",
       "8            499  \n",
       "9             51  \n",
       "10            20  \n",
       "11           365  \n",
       "12        500000  "
      ]
     },
     "execution_count": 23,
     "metadata": {},
     "output_type": "execute_result"
    }
   ],
   "source": [
    "summarize_dataframe(lftv_data)"
   ]
  },
  {
   "cell_type": "code",
   "execution_count": 24,
   "metadata": {},
   "outputs": [],
   "source": [
    "numerical_features = [\n",
    "    'age', 'number_of_children', 'total_transactions', 'total_items_purchased',\n",
    "    'avg_discount_used', 'customer_support_calls', 'days_since_last_purchase',\n",
    "    'customer_lifetime_value'\n",
    "]\n",
    "categorical_features = [\n",
    "    'income_bracket', 'loyalty_program', 'marital_status',\n",
    "    'education_level', 'occupation'\n",
    "]\n"
   ]
  },
  {
   "cell_type": "code",
   "execution_count": 25,
   "metadata": {},
   "outputs": [],
   "source": [
    "def encode_my_categorical_feature(df, feature_name, mapping=None, nominal=False, drop_first=True):\n",
    "    \"\"\"\n",
    "    Encodes a single categorical feature in the DataFrame. If the cat feature is ordinal a dictionary map\n",
    "    is expected ('mapping'); if the cat feature is nominal, one hot encoding is used\n",
    "    from sk learn and the encoded features with English names are added back to the\n",
    "    orginal data frame. Modified data frame if returned.\n",
    "    \n",
    "    Parameters:\n",
    "        df (pd.DataFrame): The input dataframe.\n",
    "        feature_name (str): The column to encode.\n",
    "        mapping (dict, optional): For ordinal encoding. Required if nominal=False.\n",
    "        nominal (bool): If True, use OneHotEncoder from sklearn. If False, use mapping.\n",
    "        drop_first (bool): Whether to drop the first dummy column (for OneHotEncoder).\n",
    "        \n",
    "    Returns:\n",
    "        pd.DataFrame: The modified DataFrame with encoded feature.\n",
    "    \"\"\"\n",
    "    if nominal:\n",
    "        encoder = OneHotEncoder(drop='first' if drop_first else None, sparse_output=False)\n",
    "        encoded = encoder.fit_transform(df[[feature_name]])\n",
    "        encoded_df = pd.DataFrame(encoded, columns=encoder.get_feature_names_out([feature_name]), index=df.index)\n",
    "        df = df.drop(columns=[feature_name])\n",
    "        df = pd.concat([df, encoded_df], axis=1)\n",
    "    else:\n",
    "        if mapping is None:\n",
    "            raise ValueError(\"Missing mapping dictionary for ordinal encoding.\")\n",
    "        df[feature_name] = df[feature_name].map(mapping)\n",
    "    \n",
    "    return df\n"
   ]
  },
  {
   "cell_type": "code",
   "execution_count": 26,
   "metadata": {},
   "outputs": [
    {
     "name": "stdout",
     "output_type": "stream",
     "text": [
      "income_bracket: ['High' 'Low' 'Medium']\n",
      "loyalty_program: ['No' 'Yes']\n",
      "marital_status: ['Divorced' 'Married' 'Single']\n",
      "education_level: [\"Bachelor's\" 'High School' \"Master's\" 'PhD']\n",
      "occupation: ['Employed' 'Retired' 'Self-Employed' 'Unemployed']\n"
     ]
    }
   ],
   "source": [
    "for i in range(len(categorical_features)):\n",
    "    print(f\"{categorical_features[i]}: {np.unique(lftv_data[categorical_features[i]])}\")"
   ]
  },
  {
   "cell_type": "markdown",
   "metadata": {},
   "source": [
    "#\n",
    "    Ordinal features have meaningful order. Nominal don't \n",
    "    Ordinal: income_bracket, education_level\n",
    "    Nominal: loyalty_program, marital_status, occupation"
   ]
  },
  {
   "cell_type": "code",
   "execution_count": 27,
   "metadata": {},
   "outputs": [],
   "source": [
    "##Additional Data feature wrangling\n",
    "#1. Map loyalty program yes, no to 1, 0\n",
    "#2. Map promotion_effectiveness High, Medium, Low to 3, 2, 1 (retain ordinality ranking)\n",
    "map1 = { 'Yes': 1, 'No' : 0 }\n",
    "map2 = { 'High': 3, 'Medium': 2, 'Low': 1 }\n",
    "map_education = { 'High School': 1, \"Bachelor's\": 2, \"Master's\": 3, 'PhD': 4 }"
   ]
  },
  {
   "cell_type": "markdown",
   "metadata": {},
   "source": []
  },
  {
   "cell_type": "code",
   "execution_count": 28,
   "metadata": {},
   "outputs": [],
   "source": [
    "lftv_data = encode_my_categorical_feature(lftv_data, 'income_bracket', mapping=map2, nominal=False, drop_first=True)"
   ]
  },
  {
   "cell_type": "code",
   "execution_count": 29,
   "metadata": {},
   "outputs": [],
   "source": [
    "lftv_data = encode_my_categorical_feature(lftv_data, 'education_level', mapping=map_education, nominal=False, drop_first=True)\n"
   ]
  },
  {
   "cell_type": "code",
   "execution_count": 30,
   "metadata": {},
   "outputs": [],
   "source": [
    "lftv_data = encode_my_categorical_feature(lftv_data, 'loyalty_program', mapping=None, nominal=True, drop_first=True)"
   ]
  },
  {
   "cell_type": "code",
   "execution_count": 31,
   "metadata": {},
   "outputs": [],
   "source": [
    "lftv_data = encode_my_categorical_feature(lftv_data, 'marital_status', mapping=None, nominal=True, drop_first=True)"
   ]
  },
  {
   "cell_type": "code",
   "execution_count": 32,
   "metadata": {},
   "outputs": [],
   "source": [
    "lftv_data = encode_my_categorical_feature(lftv_data, 'occupation', mapping=None, nominal=True, drop_first=True)"
   ]
  },
  {
   "cell_type": "code",
   "execution_count": 33,
   "metadata": {},
   "outputs": [
    {
     "data": {
      "application/vnd.microsoft.datawrangler.viewer.v0+json": {
       "columns": [
        {
         "name": "index",
         "rawType": "int64",
         "type": "integer"
        },
        {
         "name": "Column Name",
         "rawType": "object",
         "type": "string"
        },
        {
         "name": "Data Type",
         "rawType": "object",
         "type": "unknown"
        },
        {
         "name": "Null Count",
         "rawType": "int64",
         "type": "integer"
        },
        {
         "name": "Non-Null Count",
         "rawType": "int64",
         "type": "integer"
        },
        {
         "name": "Unique Count",
         "rawType": "int64",
         "type": "integer"
        }
       ],
       "conversionMethod": "pd.DataFrame",
       "ref": "9c945d97-50d3-49a1-aa23-4d175374b6f6",
       "rows": [
        [
         "0",
         "age",
         "int64",
         "0",
         "500000",
         "62"
        ],
        [
         "1",
         "income_bracket",
         "int64",
         "0",
         "500000",
         "3"
        ],
        [
         "2",
         "number_of_children",
         "int64",
         "0",
         "500000",
         "5"
        ],
        [
         "3",
         "education_level",
         "int64",
         "0",
         "500000",
         "4"
        ],
        [
         "4",
         "total_transactions",
         "int64",
         "0",
         "500000",
         "99"
        ],
        [
         "5",
         "total_items_purchased",
         "int64",
         "0",
         "500000",
         "499"
        ],
        [
         "6",
         "avg_discount_used",
         "float64",
         "0",
         "500000",
         "51"
        ],
        [
         "7",
         "customer_support_calls",
         "int64",
         "0",
         "500000",
         "20"
        ],
        [
         "8",
         "days_since_last_purchase",
         "int64",
         "0",
         "500000",
         "365"
        ],
        [
         "9",
         "customer_lifetime_value",
         "float64",
         "0",
         "500000",
         "500000"
        ],
        [
         "10",
         "loyalty_program_Yes",
         "float64",
         "0",
         "500000",
         "2"
        ],
        [
         "11",
         "marital_status_Married",
         "float64",
         "0",
         "500000",
         "2"
        ],
        [
         "12",
         "marital_status_Single",
         "float64",
         "0",
         "500000",
         "2"
        ],
        [
         "13",
         "occupation_Retired",
         "float64",
         "0",
         "500000",
         "2"
        ],
        [
         "14",
         "occupation_Self-Employed",
         "float64",
         "0",
         "500000",
         "2"
        ],
        [
         "15",
         "occupation_Unemployed",
         "float64",
         "0",
         "500000",
         "2"
        ]
       ],
       "shape": {
        "columns": 5,
        "rows": 16
       }
      },
      "text/html": [
       "<div>\n",
       "<style scoped>\n",
       "    .dataframe tbody tr th:only-of-type {\n",
       "        vertical-align: middle;\n",
       "    }\n",
       "\n",
       "    .dataframe tbody tr th {\n",
       "        vertical-align: top;\n",
       "    }\n",
       "\n",
       "    .dataframe thead th {\n",
       "        text-align: right;\n",
       "    }\n",
       "</style>\n",
       "<table border=\"1\" class=\"dataframe\">\n",
       "  <thead>\n",
       "    <tr style=\"text-align: right;\">\n",
       "      <th></th>\n",
       "      <th>Column Name</th>\n",
       "      <th>Data Type</th>\n",
       "      <th>Null Count</th>\n",
       "      <th>Non-Null Count</th>\n",
       "      <th>Unique Count</th>\n",
       "    </tr>\n",
       "  </thead>\n",
       "  <tbody>\n",
       "    <tr>\n",
       "      <th>0</th>\n",
       "      <td>age</td>\n",
       "      <td>int64</td>\n",
       "      <td>0</td>\n",
       "      <td>500000</td>\n",
       "      <td>62</td>\n",
       "    </tr>\n",
       "    <tr>\n",
       "      <th>1</th>\n",
       "      <td>income_bracket</td>\n",
       "      <td>int64</td>\n",
       "      <td>0</td>\n",
       "      <td>500000</td>\n",
       "      <td>3</td>\n",
       "    </tr>\n",
       "    <tr>\n",
       "      <th>2</th>\n",
       "      <td>number_of_children</td>\n",
       "      <td>int64</td>\n",
       "      <td>0</td>\n",
       "      <td>500000</td>\n",
       "      <td>5</td>\n",
       "    </tr>\n",
       "    <tr>\n",
       "      <th>3</th>\n",
       "      <td>education_level</td>\n",
       "      <td>int64</td>\n",
       "      <td>0</td>\n",
       "      <td>500000</td>\n",
       "      <td>4</td>\n",
       "    </tr>\n",
       "    <tr>\n",
       "      <th>4</th>\n",
       "      <td>total_transactions</td>\n",
       "      <td>int64</td>\n",
       "      <td>0</td>\n",
       "      <td>500000</td>\n",
       "      <td>99</td>\n",
       "    </tr>\n",
       "    <tr>\n",
       "      <th>5</th>\n",
       "      <td>total_items_purchased</td>\n",
       "      <td>int64</td>\n",
       "      <td>0</td>\n",
       "      <td>500000</td>\n",
       "      <td>499</td>\n",
       "    </tr>\n",
       "    <tr>\n",
       "      <th>6</th>\n",
       "      <td>avg_discount_used</td>\n",
       "      <td>float64</td>\n",
       "      <td>0</td>\n",
       "      <td>500000</td>\n",
       "      <td>51</td>\n",
       "    </tr>\n",
       "    <tr>\n",
       "      <th>7</th>\n",
       "      <td>customer_support_calls</td>\n",
       "      <td>int64</td>\n",
       "      <td>0</td>\n",
       "      <td>500000</td>\n",
       "      <td>20</td>\n",
       "    </tr>\n",
       "    <tr>\n",
       "      <th>8</th>\n",
       "      <td>days_since_last_purchase</td>\n",
       "      <td>int64</td>\n",
       "      <td>0</td>\n",
       "      <td>500000</td>\n",
       "      <td>365</td>\n",
       "    </tr>\n",
       "    <tr>\n",
       "      <th>9</th>\n",
       "      <td>customer_lifetime_value</td>\n",
       "      <td>float64</td>\n",
       "      <td>0</td>\n",
       "      <td>500000</td>\n",
       "      <td>500000</td>\n",
       "    </tr>\n",
       "    <tr>\n",
       "      <th>10</th>\n",
       "      <td>loyalty_program_Yes</td>\n",
       "      <td>float64</td>\n",
       "      <td>0</td>\n",
       "      <td>500000</td>\n",
       "      <td>2</td>\n",
       "    </tr>\n",
       "    <tr>\n",
       "      <th>11</th>\n",
       "      <td>marital_status_Married</td>\n",
       "      <td>float64</td>\n",
       "      <td>0</td>\n",
       "      <td>500000</td>\n",
       "      <td>2</td>\n",
       "    </tr>\n",
       "    <tr>\n",
       "      <th>12</th>\n",
       "      <td>marital_status_Single</td>\n",
       "      <td>float64</td>\n",
       "      <td>0</td>\n",
       "      <td>500000</td>\n",
       "      <td>2</td>\n",
       "    </tr>\n",
       "    <tr>\n",
       "      <th>13</th>\n",
       "      <td>occupation_Retired</td>\n",
       "      <td>float64</td>\n",
       "      <td>0</td>\n",
       "      <td>500000</td>\n",
       "      <td>2</td>\n",
       "    </tr>\n",
       "    <tr>\n",
       "      <th>14</th>\n",
       "      <td>occupation_Self-Employed</td>\n",
       "      <td>float64</td>\n",
       "      <td>0</td>\n",
       "      <td>500000</td>\n",
       "      <td>2</td>\n",
       "    </tr>\n",
       "    <tr>\n",
       "      <th>15</th>\n",
       "      <td>occupation_Unemployed</td>\n",
       "      <td>float64</td>\n",
       "      <td>0</td>\n",
       "      <td>500000</td>\n",
       "      <td>2</td>\n",
       "    </tr>\n",
       "  </tbody>\n",
       "</table>\n",
       "</div>"
      ],
      "text/plain": [
       "                 Column Name Data Type  Null Count  Non-Null Count  \\\n",
       "0                        age     int64           0          500000   \n",
       "1             income_bracket     int64           0          500000   \n",
       "2         number_of_children     int64           0          500000   \n",
       "3            education_level     int64           0          500000   \n",
       "4         total_transactions     int64           0          500000   \n",
       "5      total_items_purchased     int64           0          500000   \n",
       "6          avg_discount_used   float64           0          500000   \n",
       "7     customer_support_calls     int64           0          500000   \n",
       "8   days_since_last_purchase     int64           0          500000   \n",
       "9    customer_lifetime_value   float64           0          500000   \n",
       "10       loyalty_program_Yes   float64           0          500000   \n",
       "11    marital_status_Married   float64           0          500000   \n",
       "12     marital_status_Single   float64           0          500000   \n",
       "13        occupation_Retired   float64           0          500000   \n",
       "14  occupation_Self-Employed   float64           0          500000   \n",
       "15     occupation_Unemployed   float64           0          500000   \n",
       "\n",
       "    Unique Count  \n",
       "0             62  \n",
       "1              3  \n",
       "2              5  \n",
       "3              4  \n",
       "4             99  \n",
       "5            499  \n",
       "6             51  \n",
       "7             20  \n",
       "8            365  \n",
       "9         500000  \n",
       "10             2  \n",
       "11             2  \n",
       "12             2  \n",
       "13             2  \n",
       "14             2  \n",
       "15             2  "
      ]
     },
     "execution_count": 33,
     "metadata": {},
     "output_type": "execute_result"
    }
   ],
   "source": [
    "summarize_dataframe(lftv_data)"
   ]
  },
  {
   "cell_type": "code",
   "execution_count": 34,
   "metadata": {},
   "outputs": [
    {
     "data": {
      "application/vnd.microsoft.datawrangler.viewer.v0+json": {
       "columns": [
        {
         "name": "index",
         "rawType": "int64",
         "type": "integer"
        },
        {
         "name": "age",
         "rawType": "int64",
         "type": "integer"
        },
        {
         "name": "income_bracket",
         "rawType": "int64",
         "type": "integer"
        },
        {
         "name": "number_of_children",
         "rawType": "int64",
         "type": "integer"
        },
        {
         "name": "education_level",
         "rawType": "int64",
         "type": "integer"
        },
        {
         "name": "total_transactions",
         "rawType": "int64",
         "type": "integer"
        },
        {
         "name": "total_items_purchased",
         "rawType": "int64",
         "type": "integer"
        },
        {
         "name": "avg_discount_used",
         "rawType": "float64",
         "type": "float"
        },
        {
         "name": "customer_support_calls",
         "rawType": "int64",
         "type": "integer"
        },
        {
         "name": "days_since_last_purchase",
         "rawType": "int64",
         "type": "integer"
        },
        {
         "name": "customer_lifetime_value",
         "rawType": "float64",
         "type": "float"
        },
        {
         "name": "loyalty_program_Yes",
         "rawType": "float64",
         "type": "float"
        },
        {
         "name": "marital_status_Married",
         "rawType": "float64",
         "type": "float"
        },
        {
         "name": "marital_status_Single",
         "rawType": "float64",
         "type": "float"
        },
        {
         "name": "occupation_Retired",
         "rawType": "float64",
         "type": "float"
        },
        {
         "name": "occupation_Self-Employed",
         "rawType": "float64",
         "type": "float"
        },
        {
         "name": "occupation_Unemployed",
         "rawType": "float64",
         "type": "float"
        }
       ],
       "conversionMethod": "pd.DataFrame",
       "ref": "3fb28e9a-3532-4e7b-89a1-e32cd37b1448",
       "rows": [
        [
         "987231",
         "60",
         "2",
         "3",
         "3",
         "9",
         "454",
         "0.49",
         "1",
         "329",
         "53550.406428219416",
         "1.0",
         "0.0",
         "0.0",
         "0.0",
         "0.0",
         "1.0"
        ],
        [
         "79954",
         "63",
         "1",
         "0",
         "1",
         "40",
         "455",
         "0.36",
         "3",
         "145",
         "4330.984419998885",
         "0.0",
         "0.0",
         "1.0",
         "0.0",
         "0.0",
         "0.0"
        ],
        [
         "567130",
         "72",
         "2",
         "4",
         "1",
         "60",
         "493",
         "0.24",
         "14",
         "95",
         "4331.600283034767",
         "1.0",
         "0.0",
         "1.0",
         "0.0",
         "0.0",
         "1.0"
        ],
        [
         "500891",
         "34",
         "3",
         "3",
         "3",
         "11",
         "196",
         "0.43",
         "7",
         "124",
         "46932.81441769373",
         "1.0",
         "0.0",
         "0.0",
         "0.0",
         "0.0",
         "0.0"
        ],
        [
         "55399",
         "77",
         "2",
         "4",
         "3",
         "17",
         "35",
         "0.48",
         "17",
         "240",
         "112171.33370612067",
         "0.0",
         "0.0",
         "1.0",
         "1.0",
         "0.0",
         "0.0"
        ]
       ],
       "shape": {
        "columns": 16,
        "rows": 5
       }
      },
      "text/html": [
       "<div>\n",
       "<style scoped>\n",
       "    .dataframe tbody tr th:only-of-type {\n",
       "        vertical-align: middle;\n",
       "    }\n",
       "\n",
       "    .dataframe tbody tr th {\n",
       "        vertical-align: top;\n",
       "    }\n",
       "\n",
       "    .dataframe thead th {\n",
       "        text-align: right;\n",
       "    }\n",
       "</style>\n",
       "<table border=\"1\" class=\"dataframe\">\n",
       "  <thead>\n",
       "    <tr style=\"text-align: right;\">\n",
       "      <th></th>\n",
       "      <th>age</th>\n",
       "      <th>income_bracket</th>\n",
       "      <th>number_of_children</th>\n",
       "      <th>education_level</th>\n",
       "      <th>total_transactions</th>\n",
       "      <th>total_items_purchased</th>\n",
       "      <th>avg_discount_used</th>\n",
       "      <th>customer_support_calls</th>\n",
       "      <th>days_since_last_purchase</th>\n",
       "      <th>customer_lifetime_value</th>\n",
       "      <th>loyalty_program_Yes</th>\n",
       "      <th>marital_status_Married</th>\n",
       "      <th>marital_status_Single</th>\n",
       "      <th>occupation_Retired</th>\n",
       "      <th>occupation_Self-Employed</th>\n",
       "      <th>occupation_Unemployed</th>\n",
       "    </tr>\n",
       "  </thead>\n",
       "  <tbody>\n",
       "    <tr>\n",
       "      <th>987231</th>\n",
       "      <td>60</td>\n",
       "      <td>2</td>\n",
       "      <td>3</td>\n",
       "      <td>3</td>\n",
       "      <td>9</td>\n",
       "      <td>454</td>\n",
       "      <td>0.49</td>\n",
       "      <td>1</td>\n",
       "      <td>329</td>\n",
       "      <td>53550.406428</td>\n",
       "      <td>1.0</td>\n",
       "      <td>0.0</td>\n",
       "      <td>0.0</td>\n",
       "      <td>0.0</td>\n",
       "      <td>0.0</td>\n",
       "      <td>1.0</td>\n",
       "    </tr>\n",
       "    <tr>\n",
       "      <th>79954</th>\n",
       "      <td>63</td>\n",
       "      <td>1</td>\n",
       "      <td>0</td>\n",
       "      <td>1</td>\n",
       "      <td>40</td>\n",
       "      <td>455</td>\n",
       "      <td>0.36</td>\n",
       "      <td>3</td>\n",
       "      <td>145</td>\n",
       "      <td>4330.984420</td>\n",
       "      <td>0.0</td>\n",
       "      <td>0.0</td>\n",
       "      <td>1.0</td>\n",
       "      <td>0.0</td>\n",
       "      <td>0.0</td>\n",
       "      <td>0.0</td>\n",
       "    </tr>\n",
       "    <tr>\n",
       "      <th>567130</th>\n",
       "      <td>72</td>\n",
       "      <td>2</td>\n",
       "      <td>4</td>\n",
       "      <td>1</td>\n",
       "      <td>60</td>\n",
       "      <td>493</td>\n",
       "      <td>0.24</td>\n",
       "      <td>14</td>\n",
       "      <td>95</td>\n",
       "      <td>4331.600283</td>\n",
       "      <td>1.0</td>\n",
       "      <td>0.0</td>\n",
       "      <td>1.0</td>\n",
       "      <td>0.0</td>\n",
       "      <td>0.0</td>\n",
       "      <td>1.0</td>\n",
       "    </tr>\n",
       "    <tr>\n",
       "      <th>500891</th>\n",
       "      <td>34</td>\n",
       "      <td>3</td>\n",
       "      <td>3</td>\n",
       "      <td>3</td>\n",
       "      <td>11</td>\n",
       "      <td>196</td>\n",
       "      <td>0.43</td>\n",
       "      <td>7</td>\n",
       "      <td>124</td>\n",
       "      <td>46932.814418</td>\n",
       "      <td>1.0</td>\n",
       "      <td>0.0</td>\n",
       "      <td>0.0</td>\n",
       "      <td>0.0</td>\n",
       "      <td>0.0</td>\n",
       "      <td>0.0</td>\n",
       "    </tr>\n",
       "    <tr>\n",
       "      <th>55399</th>\n",
       "      <td>77</td>\n",
       "      <td>2</td>\n",
       "      <td>4</td>\n",
       "      <td>3</td>\n",
       "      <td>17</td>\n",
       "      <td>35</td>\n",
       "      <td>0.48</td>\n",
       "      <td>17</td>\n",
       "      <td>240</td>\n",
       "      <td>112171.333706</td>\n",
       "      <td>0.0</td>\n",
       "      <td>0.0</td>\n",
       "      <td>1.0</td>\n",
       "      <td>1.0</td>\n",
       "      <td>0.0</td>\n",
       "      <td>0.0</td>\n",
       "    </tr>\n",
       "  </tbody>\n",
       "</table>\n",
       "</div>"
      ],
      "text/plain": [
       "        age  income_bracket  number_of_children  education_level  \\\n",
       "987231   60               2                   3                3   \n",
       "79954    63               1                   0                1   \n",
       "567130   72               2                   4                1   \n",
       "500891   34               3                   3                3   \n",
       "55399    77               2                   4                3   \n",
       "\n",
       "        total_transactions  total_items_purchased  avg_discount_used  \\\n",
       "987231                   9                    454               0.49   \n",
       "79954                   40                    455               0.36   \n",
       "567130                  60                    493               0.24   \n",
       "500891                  11                    196               0.43   \n",
       "55399                   17                     35               0.48   \n",
       "\n",
       "        customer_support_calls  days_since_last_purchase  \\\n",
       "987231                       1                       329   \n",
       "79954                        3                       145   \n",
       "567130                      14                        95   \n",
       "500891                       7                       124   \n",
       "55399                       17                       240   \n",
       "\n",
       "        customer_lifetime_value  loyalty_program_Yes  marital_status_Married  \\\n",
       "987231             53550.406428                  1.0                     0.0   \n",
       "79954               4330.984420                  0.0                     0.0   \n",
       "567130              4331.600283                  1.0                     0.0   \n",
       "500891             46932.814418                  1.0                     0.0   \n",
       "55399             112171.333706                  0.0                     0.0   \n",
       "\n",
       "        marital_status_Single  occupation_Retired  occupation_Self-Employed  \\\n",
       "987231                    0.0                 0.0                       0.0   \n",
       "79954                     1.0                 0.0                       0.0   \n",
       "567130                    1.0                 0.0                       0.0   \n",
       "500891                    0.0                 0.0                       0.0   \n",
       "55399                     1.0                 1.0                       0.0   \n",
       "\n",
       "        occupation_Unemployed  \n",
       "987231                    1.0  \n",
       "79954                     0.0  \n",
       "567130                    1.0  \n",
       "500891                    0.0  \n",
       "55399                     0.0  "
      ]
     },
     "execution_count": 34,
     "metadata": {},
     "output_type": "execute_result"
    }
   ],
   "source": [
    "lftv_data.head()"
   ]
  },
  {
   "cell_type": "code",
   "execution_count": 35,
   "metadata": {},
   "outputs": [
    {
     "data": {
      "text/plain": [
       "(500000, 16)"
      ]
     },
     "execution_count": 35,
     "metadata": {},
     "output_type": "execute_result"
    }
   ],
   "source": [
    "lftv_data.shape"
   ]
  },
  {
   "cell_type": "markdown",
   "metadata": {},
   "source": [
    "# EDA Visualization"
   ]
  },
  {
   "cell_type": "code",
   "execution_count": 36,
   "metadata": {},
   "outputs": [
    {
     "data": {
      "text/plain": [
       "<Figure size 640x480 with 0 Axes>"
      ]
     },
     "metadata": {},
     "output_type": "display_data"
    },
    {
     "data": {
      "image/png": "[encoded data removed]",
      "text/plain": [
       "<Figure size 1800x1000 with 2 Axes>"
      ]
     },
     "metadata": {},
     "output_type": "display_data"
    }
   ],
   "source": [
    "# correlation matrix to visualize relationships\n",
    "plt.clf()\n",
    "corr_matrix = lftv_data.corr()\n",
    "plt.figure(figsize=(18,10))\n",
    "sns.heatmap(corr_matrix, annot=True, fmt=\".3f\", cmap='coolwarm')\n",
    "plt.show()"
   ]
  },
  {
   "cell_type": "markdown",
   "metadata": {},
   "source": [
    "# \n",
    "    Most of the correlation values are low and thus features can be retained.\n",
    "    Occupation feautres have low correlation (abs val ~0.32) b/w them so we will retain them because the value even though 0.33 is still now.\n",
    "    We will drop marital_status_Single (since it has high correlation with marital_single). We exepect Married people to influence lifetime value more than single."
   ]
  },
  {
   "cell_type": "code",
   "execution_count": 37,
   "metadata": {},
   "outputs": [],
   "source": [
    "lftv_data = lftv_data.drop(columns=['marital_status_Single'])"
   ]
  },
  {
   "cell_type": "code",
   "execution_count": 38,
   "metadata": {},
   "outputs": [
    {
     "data": {
      "text/plain": [
       "(500000, 15)"
      ]
     },
     "execution_count": 38,
     "metadata": {},
     "output_type": "execute_result"
    }
   ],
   "source": [
    "lftv_data.shape"
   ]
  },
  {
   "cell_type": "markdown",
   "metadata": {},
   "source": [
    "# Constructing Our X and Y data set. "
   ]
  },
  {
   "cell_type": "code",
   "execution_count": 39,
   "metadata": {},
   "outputs": [
    {
     "data": {
      "application/vnd.microsoft.datawrangler.viewer.v0+json": {
       "columns": [
        {
         "name": "index",
         "rawType": "int64",
         "type": "integer"
        },
        {
         "name": "Column Name",
         "rawType": "object",
         "type": "string"
        },
        {
         "name": "Data Type",
         "rawType": "object",
         "type": "unknown"
        },
        {
         "name": "Null Count",
         "rawType": "int64",
         "type": "integer"
        },
        {
         "name": "Non-Null Count",
         "rawType": "int64",
         "type": "integer"
        },
        {
         "name": "Unique Count",
         "rawType": "int64",
         "type": "integer"
        }
       ],
       "conversionMethod": "pd.DataFrame",
       "ref": "4186dd21-cce5-495e-8542-9dcd95d9e623",
       "rows": [
        [
         "0",
         "age",
         "int64",
         "0",
         "500000",
         "62"
        ],
        [
         "1",
         "income_bracket",
         "int64",
         "0",
         "500000",
         "3"
        ],
        [
         "2",
         "number_of_children",
         "int64",
         "0",
         "500000",
         "5"
        ],
        [
         "3",
         "education_level",
         "int64",
         "0",
         "500000",
         "4"
        ],
        [
         "4",
         "total_transactions",
         "int64",
         "0",
         "500000",
         "99"
        ],
        [
         "5",
         "total_items_purchased",
         "int64",
         "0",
         "500000",
         "499"
        ],
        [
         "6",
         "avg_discount_used",
         "float64",
         "0",
         "500000",
         "51"
        ],
        [
         "7",
         "customer_support_calls",
         "int64",
         "0",
         "500000",
         "20"
        ],
        [
         "8",
         "days_since_last_purchase",
         "int64",
         "0",
         "500000",
         "365"
        ],
        [
         "9",
         "customer_lifetime_value",
         "float64",
         "0",
         "500000",
         "500000"
        ],
        [
         "10",
         "loyalty_program_Yes",
         "float64",
         "0",
         "500000",
         "2"
        ],
        [
         "11",
         "marital_status_Married",
         "float64",
         "0",
         "500000",
         "2"
        ],
        [
         "12",
         "occupation_Retired",
         "float64",
         "0",
         "500000",
         "2"
        ],
        [
         "13",
         "occupation_Self-Employed",
         "float64",
         "0",
         "500000",
         "2"
        ],
        [
         "14",
         "occupation_Unemployed",
         "float64",
         "0",
         "500000",
         "2"
        ]
       ],
       "shape": {
        "columns": 5,
        "rows": 15
       }
      },
      "text/html": [
       "<div>\n",
       "<style scoped>\n",
       "    .dataframe tbody tr th:only-of-type {\n",
       "        vertical-align: middle;\n",
       "    }\n",
       "\n",
       "    .dataframe tbody tr th {\n",
       "        vertical-align: top;\n",
       "    }\n",
       "\n",
       "    .dataframe thead th {\n",
       "        text-align: right;\n",
       "    }\n",
       "</style>\n",
       "<table border=\"1\" class=\"dataframe\">\n",
       "  <thead>\n",
       "    <tr style=\"text-align: right;\">\n",
       "      <th></th>\n",
       "      <th>Column Name</th>\n",
       "      <th>Data Type</th>\n",
       "      <th>Null Count</th>\n",
       "      <th>Non-Null Count</th>\n",
       "      <th>Unique Count</th>\n",
       "    </tr>\n",
       "  </thead>\n",
       "  <tbody>\n",
       "    <tr>\n",
       "      <th>0</th>\n",
       "      <td>age</td>\n",
       "      <td>int64</td>\n",
       "      <td>0</td>\n",
       "      <td>500000</td>\n",
       "      <td>62</td>\n",
       "    </tr>\n",
       "    <tr>\n",
       "      <th>1</th>\n",
       "      <td>income_bracket</td>\n",
       "      <td>int64</td>\n",
       "      <td>0</td>\n",
       "      <td>500000</td>\n",
       "      <td>3</td>\n",
       "    </tr>\n",
       "    <tr>\n",
       "      <th>2</th>\n",
       "      <td>number_of_children</td>\n",
       "      <td>int64</td>\n",
       "      <td>0</td>\n",
       "      <td>500000</td>\n",
       "      <td>5</td>\n",
       "    </tr>\n",
       "    <tr>\n",
       "      <th>3</th>\n",
       "      <td>education_level</td>\n",
       "      <td>int64</td>\n",
       "      <td>0</td>\n",
       "      <td>500000</td>\n",
       "      <td>4</td>\n",
       "    </tr>\n",
       "    <tr>\n",
       "      <th>4</th>\n",
       "      <td>total_transactions</td>\n",
       "      <td>int64</td>\n",
       "      <td>0</td>\n",
       "      <td>500000</td>\n",
       "      <td>99</td>\n",
       "    </tr>\n",
       "    <tr>\n",
       "      <th>5</th>\n",
       "      <td>total_items_purchased</td>\n",
       "      <td>int64</td>\n",
       "      <td>0</td>\n",
       "      <td>500000</td>\n",
       "      <td>499</td>\n",
       "    </tr>\n",
       "    <tr>\n",
       "      <th>6</th>\n",
       "      <td>avg_discount_used</td>\n",
       "      <td>float64</td>\n",
       "      <td>0</td>\n",
       "      <td>500000</td>\n",
       "      <td>51</td>\n",
       "    </tr>\n",
       "    <tr>\n",
       "      <th>7</th>\n",
       "      <td>customer_support_calls</td>\n",
       "      <td>int64</td>\n",
       "      <td>0</td>\n",
       "      <td>500000</td>\n",
       "      <td>20</td>\n",
       "    </tr>\n",
       "    <tr>\n",
       "      <th>8</th>\n",
       "      <td>days_since_last_purchase</td>\n",
       "      <td>int64</td>\n",
       "      <td>0</td>\n",
       "      <td>500000</td>\n",
       "      <td>365</td>\n",
       "    </tr>\n",
       "    <tr>\n",
       "      <th>9</th>\n",
       "      <td>customer_lifetime_value</td>\n",
       "      <td>float64</td>\n",
       "      <td>0</td>\n",
       "      <td>500000</td>\n",
       "      <td>500000</td>\n",
       "    </tr>\n",
       "    <tr>\n",
       "      <th>10</th>\n",
       "      <td>loyalty_program_Yes</td>\n",
       "      <td>float64</td>\n",
       "      <td>0</td>\n",
       "      <td>500000</td>\n",
       "      <td>2</td>\n",
       "    </tr>\n",
       "    <tr>\n",
       "      <th>11</th>\n",
       "      <td>marital_status_Married</td>\n",
       "      <td>float64</td>\n",
       "      <td>0</td>\n",
       "      <td>500000</td>\n",
       "      <td>2</td>\n",
       "    </tr>\n",
       "    <tr>\n",
       "      <th>12</th>\n",
       "      <td>occupation_Retired</td>\n",
       "      <td>float64</td>\n",
       "      <td>0</td>\n",
       "      <td>500000</td>\n",
       "      <td>2</td>\n",
       "    </tr>\n",
       "    <tr>\n",
       "      <th>13</th>\n",
       "      <td>occupation_Self-Employed</td>\n",
       "      <td>float64</td>\n",
       "      <td>0</td>\n",
       "      <td>500000</td>\n",
       "      <td>2</td>\n",
       "    </tr>\n",
       "    <tr>\n",
       "      <th>14</th>\n",
       "      <td>occupation_Unemployed</td>\n",
       "      <td>float64</td>\n",
       "      <td>0</td>\n",
       "      <td>500000</td>\n",
       "      <td>2</td>\n",
       "    </tr>\n",
       "  </tbody>\n",
       "</table>\n",
       "</div>"
      ],
      "text/plain": [
       "                 Column Name Data Type  Null Count  Non-Null Count  \\\n",
       "0                        age     int64           0          500000   \n",
       "1             income_bracket     int64           0          500000   \n",
       "2         number_of_children     int64           0          500000   \n",
       "3            education_level     int64           0          500000   \n",
       "4         total_transactions     int64           0          500000   \n",
       "5      total_items_purchased     int64           0          500000   \n",
       "6          avg_discount_used   float64           0          500000   \n",
       "7     customer_support_calls     int64           0          500000   \n",
       "8   days_since_last_purchase     int64           0          500000   \n",
       "9    customer_lifetime_value   float64           0          500000   \n",
       "10       loyalty_program_Yes   float64           0          500000   \n",
       "11    marital_status_Married   float64           0          500000   \n",
       "12        occupation_Retired   float64           0          500000   \n",
       "13  occupation_Self-Employed   float64           0          500000   \n",
       "14     occupation_Unemployed   float64           0          500000   \n",
       "\n",
       "    Unique Count  \n",
       "0             62  \n",
       "1              3  \n",
       "2              5  \n",
       "3              4  \n",
       "4             99  \n",
       "5            499  \n",
       "6             51  \n",
       "7             20  \n",
       "8            365  \n",
       "9         500000  \n",
       "10             2  \n",
       "11             2  \n",
       "12             2  \n",
       "13             2  \n",
       "14             2  "
      ]
     },
     "execution_count": 39,
     "metadata": {},
     "output_type": "execute_result"
    }
   ],
   "source": [
    "summarize_dataframe(lftv_data)"
   ]
  },
  {
   "cell_type": "code",
   "execution_count": 40,
   "metadata": {},
   "outputs": [
    {
     "data": {
      "text/plain": [
       "(500000, 15)"
      ]
     },
     "execution_count": 40,
     "metadata": {},
     "output_type": "execute_result"
    }
   ],
   "source": [
    "lftv_data.shape"
   ]
  },
  {
   "cell_type": "code",
   "execution_count": 41,
   "metadata": {},
   "outputs": [
    {
     "data": {
      "application/vnd.microsoft.datawrangler.viewer.v0+json": {
       "columns": [
        {
         "name": "index",
         "rawType": "int64",
         "type": "integer"
        },
        {
         "name": "age",
         "rawType": "int64",
         "type": "integer"
        },
        {
         "name": "income_bracket",
         "rawType": "int64",
         "type": "integer"
        },
        {
         "name": "number_of_children",
         "rawType": "int64",
         "type": "integer"
        },
        {
         "name": "education_level",
         "rawType": "int64",
         "type": "integer"
        },
        {
         "name": "total_transactions",
         "rawType": "int64",
         "type": "integer"
        },
        {
         "name": "total_items_purchased",
         "rawType": "int64",
         "type": "integer"
        },
        {
         "name": "avg_discount_used",
         "rawType": "float64",
         "type": "float"
        },
        {
         "name": "customer_support_calls",
         "rawType": "int64",
         "type": "integer"
        },
        {
         "name": "days_since_last_purchase",
         "rawType": "int64",
         "type": "integer"
        },
        {
         "name": "customer_lifetime_value",
         "rawType": "float64",
         "type": "float"
        },
        {
         "name": "loyalty_program_Yes",
         "rawType": "float64",
         "type": "float"
        },
        {
         "name": "marital_status_Married",
         "rawType": "float64",
         "type": "float"
        },
        {
         "name": "occupation_Retired",
         "rawType": "float64",
         "type": "float"
        },
        {
         "name": "occupation_Self-Employed",
         "rawType": "float64",
         "type": "float"
        },
        {
         "name": "occupation_Unemployed",
         "rawType": "float64",
         "type": "float"
        }
       ],
       "conversionMethod": "pd.DataFrame",
       "ref": "de1613ba-bc79-4520-b471-6ec6fdddb429",
       "rows": [
        [
         "987231",
         "60",
         "2",
         "3",
         "3",
         "9",
         "454",
         "0.49",
         "1",
         "329",
         "53550.406428219416",
         "1.0",
         "0.0",
         "0.0",
         "0.0",
         "1.0"
        ],
        [
         "79954",
         "63",
         "1",
         "0",
         "1",
         "40",
         "455",
         "0.36",
         "3",
         "145",
         "4330.984419998885",
         "0.0",
         "0.0",
         "0.0",
         "0.0",
         "0.0"
        ],
        [
         "567130",
         "72",
         "2",
         "4",
         "1",
         "60",
         "493",
         "0.24",
         "14",
         "95",
         "4331.600283034767",
         "1.0",
         "0.0",
         "0.0",
         "0.0",
         "1.0"
        ],
        [
         "500891",
         "34",
         "3",
         "3",
         "3",
         "11",
         "196",
         "0.43",
         "7",
         "124",
         "46932.81441769373",
         "1.0",
         "0.0",
         "0.0",
         "0.0",
         "0.0"
        ],
        [
         "55399",
         "77",
         "2",
         "4",
         "3",
         "17",
         "35",
         "0.48",
         "17",
         "240",
         "112171.33370612067",
         "0.0",
         "0.0",
         "1.0",
         "0.0",
         "0.0"
        ]
       ],
       "shape": {
        "columns": 15,
        "rows": 5
       }
      },
      "text/html": [
       "<div>\n",
       "<style scoped>\n",
       "    .dataframe tbody tr th:only-of-type {\n",
       "        vertical-align: middle;\n",
       "    }\n",
       "\n",
       "    .dataframe tbody tr th {\n",
       "        vertical-align: top;\n",
       "    }\n",
       "\n",
       "    .dataframe thead th {\n",
       "        text-align: right;\n",
       "    }\n",
       "</style>\n",
       "<table border=\"1\" class=\"dataframe\">\n",
       "  <thead>\n",
       "    <tr style=\"text-align: right;\">\n",
       "      <th></th>\n",
       "      <th>age</th>\n",
       "      <th>income_bracket</th>\n",
       "      <th>number_of_children</th>\n",
       "      <th>education_level</th>\n",
       "      <th>total_transactions</th>\n",
       "      <th>total_items_purchased</th>\n",
       "      <th>avg_discount_used</th>\n",
       "      <th>customer_support_calls</th>\n",
       "      <th>days_since_last_purchase</th>\n",
       "      <th>customer_lifetime_value</th>\n",
       "      <th>loyalty_program_Yes</th>\n",
       "      <th>marital_status_Married</th>\n",
       "      <th>occupation_Retired</th>\n",
       "      <th>occupation_Self-Employed</th>\n",
       "      <th>occupation_Unemployed</th>\n",
       "    </tr>\n",
       "  </thead>\n",
       "  <tbody>\n",
       "    <tr>\n",
       "      <th>987231</th>\n",
       "      <td>60</td>\n",
       "      <td>2</td>\n",
       "      <td>3</td>\n",
       "      <td>3</td>\n",
       "      <td>9</td>\n",
       "      <td>454</td>\n",
       "      <td>0.49</td>\n",
       "      <td>1</td>\n",
       "      <td>329</td>\n",
       "      <td>53550.406428</td>\n",
       "      <td>1.0</td>\n",
       "      <td>0.0</td>\n",
       "      <td>0.0</td>\n",
       "      <td>0.0</td>\n",
       "      <td>1.0</td>\n",
       "    </tr>\n",
       "    <tr>\n",
       "      <th>79954</th>\n",
       "      <td>63</td>\n",
       "      <td>1</td>\n",
       "      <td>0</td>\n",
       "      <td>1</td>\n",
       "      <td>40</td>\n",
       "      <td>455</td>\n",
       "      <td>0.36</td>\n",
       "      <td>3</td>\n",
       "      <td>145</td>\n",
       "      <td>4330.984420</td>\n",
       "      <td>0.0</td>\n",
       "      <td>0.0</td>\n",
       "      <td>0.0</td>\n",
       "      <td>0.0</td>\n",
       "      <td>0.0</td>\n",
       "    </tr>\n",
       "    <tr>\n",
       "      <th>567130</th>\n",
       "      <td>72</td>\n",
       "      <td>2</td>\n",
       "      <td>4</td>\n",
       "      <td>1</td>\n",
       "      <td>60</td>\n",
       "      <td>493</td>\n",
       "      <td>0.24</td>\n",
       "      <td>14</td>\n",
       "      <td>95</td>\n",
       "      <td>4331.600283</td>\n",
       "      <td>1.0</td>\n",
       "      <td>0.0</td>\n",
       "      <td>0.0</td>\n",
       "      <td>0.0</td>\n",
       "      <td>1.0</td>\n",
       "    </tr>\n",
       "    <tr>\n",
       "      <th>500891</th>\n",
       "      <td>34</td>\n",
       "      <td>3</td>\n",
       "      <td>3</td>\n",
       "      <td>3</td>\n",
       "      <td>11</td>\n",
       "      <td>196</td>\n",
       "      <td>0.43</td>\n",
       "      <td>7</td>\n",
       "      <td>124</td>\n",
       "      <td>46932.814418</td>\n",
       "      <td>1.0</td>\n",
       "      <td>0.0</td>\n",
       "      <td>0.0</td>\n",
       "      <td>0.0</td>\n",
       "      <td>0.0</td>\n",
       "    </tr>\n",
       "    <tr>\n",
       "      <th>55399</th>\n",
       "      <td>77</td>\n",
       "      <td>2</td>\n",
       "      <td>4</td>\n",
       "      <td>3</td>\n",
       "      <td>17</td>\n",
       "      <td>35</td>\n",
       "      <td>0.48</td>\n",
       "      <td>17</td>\n",
       "      <td>240</td>\n",
       "      <td>112171.333706</td>\n",
       "      <td>0.0</td>\n",
       "      <td>0.0</td>\n",
       "      <td>1.0</td>\n",
       "      <td>0.0</td>\n",
       "      <td>0.0</td>\n",
       "    </tr>\n",
       "  </tbody>\n",
       "</table>\n",
       "</div>"
      ],
      "text/plain": [
       "        age  income_bracket  number_of_children  education_level  \\\n",
       "987231   60               2                   3                3   \n",
       "79954    63               1                   0                1   \n",
       "567130   72               2                   4                1   \n",
       "500891   34               3                   3                3   \n",
       "55399    77               2                   4                3   \n",
       "\n",
       "        total_transactions  total_items_purchased  avg_discount_used  \\\n",
       "987231                   9                    454               0.49   \n",
       "79954                   40                    455               0.36   \n",
       "567130                  60                    493               0.24   \n",
       "500891                  11                    196               0.43   \n",
       "55399                   17                     35               0.48   \n",
       "\n",
       "        customer_support_calls  days_since_last_purchase  \\\n",
       "987231                       1                       329   \n",
       "79954                        3                       145   \n",
       "567130                      14                        95   \n",
       "500891                       7                       124   \n",
       "55399                       17                       240   \n",
       "\n",
       "        customer_lifetime_value  loyalty_program_Yes  marital_status_Married  \\\n",
       "987231             53550.406428                  1.0                     0.0   \n",
       "79954               4330.984420                  0.0                     0.0   \n",
       "567130              4331.600283                  1.0                     0.0   \n",
       "500891             46932.814418                  1.0                     0.0   \n",
       "55399             112171.333706                  0.0                     0.0   \n",
       "\n",
       "        occupation_Retired  occupation_Self-Employed  occupation_Unemployed  \n",
       "987231                 0.0                       0.0                    1.0  \n",
       "79954                  0.0                       0.0                    0.0  \n",
       "567130                 0.0                       0.0                    1.0  \n",
       "500891                 0.0                       0.0                    0.0  \n",
       "55399                  1.0                       0.0                    0.0  "
      ]
     },
     "execution_count": 41,
     "metadata": {},
     "output_type": "execute_result"
    }
   ],
   "source": [
    "lftv_data.head()"
   ]
  },
  {
   "cell_type": "markdown",
   "metadata": {},
   "source": [
    "# Towards x_dataset, and y_dataset  construction\n",
    "   "
   ]
  },
  {
   "cell_type": "code",
   "execution_count": 42,
   "metadata": {},
   "outputs": [],
   "source": [
    "#construct our x_data\n",
    "y_dataset = lftv_data['customer_lifetime_value'].values\n",
    "x_dataset = lftv_data.drop(columns=['customer_lifetime_value']) # drop the Y label from the X data set"
   ]
  },
  {
   "cell_type": "code",
   "execution_count": 43,
   "metadata": {},
   "outputs": [
    {
     "data": {
      "application/vnd.microsoft.datawrangler.viewer.v0+json": {
       "columns": [
        {
         "name": "index",
         "rawType": "int64",
         "type": "integer"
        },
        {
         "name": "Column Name",
         "rawType": "object",
         "type": "string"
        },
        {
         "name": "Data Type",
         "rawType": "object",
         "type": "unknown"
        },
        {
         "name": "Null Count",
         "rawType": "int64",
         "type": "integer"
        },
        {
         "name": "Non-Null Count",
         "rawType": "int64",
         "type": "integer"
        },
        {
         "name": "Unique Count",
         "rawType": "int64",
         "type": "integer"
        }
       ],
       "conversionMethod": "pd.DataFrame",
       "ref": "35aa2218-c93b-4a61-913a-7004f5516854",
       "rows": [
        [
         "0",
         "age",
         "int64",
         "0",
         "500000",
         "62"
        ],
        [
         "1",
         "income_bracket",
         "int64",
         "0",
         "500000",
         "3"
        ],
        [
         "2",
         "number_of_children",
         "int64",
         "0",
         "500000",
         "5"
        ],
        [
         "3",
         "education_level",
         "int64",
         "0",
         "500000",
         "4"
        ],
        [
         "4",
         "total_transactions",
         "int64",
         "0",
         "500000",
         "99"
        ],
        [
         "5",
         "total_items_purchased",
         "int64",
         "0",
         "500000",
         "499"
        ],
        [
         "6",
         "avg_discount_used",
         "float64",
         "0",
         "500000",
         "51"
        ],
        [
         "7",
         "customer_support_calls",
         "int64",
         "0",
         "500000",
         "20"
        ],
        [
         "8",
         "days_since_last_purchase",
         "int64",
         "0",
         "500000",
         "365"
        ],
        [
         "9",
         "loyalty_program_Yes",
         "float64",
         "0",
         "500000",
         "2"
        ],
        [
         "10",
         "marital_status_Married",
         "float64",
         "0",
         "500000",
         "2"
        ],
        [
         "11",
         "occupation_Retired",
         "float64",
         "0",
         "500000",
         "2"
        ],
        [
         "12",
         "occupation_Self-Employed",
         "float64",
         "0",
         "500000",
         "2"
        ],
        [
         "13",
         "occupation_Unemployed",
         "float64",
         "0",
         "500000",
         "2"
        ]
       ],
       "shape": {
        "columns": 5,
        "rows": 14
       }
      },
      "text/html": [
       "<div>\n",
       "<style scoped>\n",
       "    .dataframe tbody tr th:only-of-type {\n",
       "        vertical-align: middle;\n",
       "    }\n",
       "\n",
       "    .dataframe tbody tr th {\n",
       "        vertical-align: top;\n",
       "    }\n",
       "\n",
       "    .dataframe thead th {\n",
       "        text-align: right;\n",
       "    }\n",
       "</style>\n",
       "<table border=\"1\" class=\"dataframe\">\n",
       "  <thead>\n",
       "    <tr style=\"text-align: right;\">\n",
       "      <th></th>\n",
       "      <th>Column Name</th>\n",
       "      <th>Data Type</th>\n",
       "      <th>Null Count</th>\n",
       "      <th>Non-Null Count</th>\n",
       "      <th>Unique Count</th>\n",
       "    </tr>\n",
       "  </thead>\n",
       "  <tbody>\n",
       "    <tr>\n",
       "      <th>0</th>\n",
       "      <td>age</td>\n",
       "      <td>int64</td>\n",
       "      <td>0</td>\n",
       "      <td>500000</td>\n",
       "      <td>62</td>\n",
       "    </tr>\n",
       "    <tr>\n",
       "      <th>1</th>\n",
       "      <td>income_bracket</td>\n",
       "      <td>int64</td>\n",
       "      <td>0</td>\n",
       "      <td>500000</td>\n",
       "      <td>3</td>\n",
       "    </tr>\n",
       "    <tr>\n",
       "      <th>2</th>\n",
       "      <td>number_of_children</td>\n",
       "      <td>int64</td>\n",
       "      <td>0</td>\n",
       "      <td>500000</td>\n",
       "      <td>5</td>\n",
       "    </tr>\n",
       "    <tr>\n",
       "      <th>3</th>\n",
       "      <td>education_level</td>\n",
       "      <td>int64</td>\n",
       "      <td>0</td>\n",
       "      <td>500000</td>\n",
       "      <td>4</td>\n",
       "    </tr>\n",
       "    <tr>\n",
       "      <th>4</th>\n",
       "      <td>total_transactions</td>\n",
       "      <td>int64</td>\n",
       "      <td>0</td>\n",
       "      <td>500000</td>\n",
       "      <td>99</td>\n",
       "    </tr>\n",
       "    <tr>\n",
       "      <th>5</th>\n",
       "      <td>total_items_purchased</td>\n",
       "      <td>int64</td>\n",
       "      <td>0</td>\n",
       "      <td>500000</td>\n",
       "      <td>499</td>\n",
       "    </tr>\n",
       "    <tr>\n",
       "      <th>6</th>\n",
       "      <td>avg_discount_used</td>\n",
       "      <td>float64</td>\n",
       "      <td>0</td>\n",
       "      <td>500000</td>\n",
       "      <td>51</td>\n",
       "    </tr>\n",
       "    <tr>\n",
       "      <th>7</th>\n",
       "      <td>customer_support_calls</td>\n",
       "      <td>int64</td>\n",
       "      <td>0</td>\n",
       "      <td>500000</td>\n",
       "      <td>20</td>\n",
       "    </tr>\n",
       "    <tr>\n",
       "      <th>8</th>\n",
       "      <td>days_since_last_purchase</td>\n",
       "      <td>int64</td>\n",
       "      <td>0</td>\n",
       "      <td>500000</td>\n",
       "      <td>365</td>\n",
       "    </tr>\n",
       "    <tr>\n",
       "      <th>9</th>\n",
       "      <td>loyalty_program_Yes</td>\n",
       "      <td>float64</td>\n",
       "      <td>0</td>\n",
       "      <td>500000</td>\n",
       "      <td>2</td>\n",
       "    </tr>\n",
       "    <tr>\n",
       "      <th>10</th>\n",
       "      <td>marital_status_Married</td>\n",
       "      <td>float64</td>\n",
       "      <td>0</td>\n",
       "      <td>500000</td>\n",
       "      <td>2</td>\n",
       "    </tr>\n",
       "    <tr>\n",
       "      <th>11</th>\n",
       "      <td>occupation_Retired</td>\n",
       "      <td>float64</td>\n",
       "      <td>0</td>\n",
       "      <td>500000</td>\n",
       "      <td>2</td>\n",
       "    </tr>\n",
       "    <tr>\n",
       "      <th>12</th>\n",
       "      <td>occupation_Self-Employed</td>\n",
       "      <td>float64</td>\n",
       "      <td>0</td>\n",
       "      <td>500000</td>\n",
       "      <td>2</td>\n",
       "    </tr>\n",
       "    <tr>\n",
       "      <th>13</th>\n",
       "      <td>occupation_Unemployed</td>\n",
       "      <td>float64</td>\n",
       "      <td>0</td>\n",
       "      <td>500000</td>\n",
       "      <td>2</td>\n",
       "    </tr>\n",
       "  </tbody>\n",
       "</table>\n",
       "</div>"
      ],
      "text/plain": [
       "                 Column Name Data Type  Null Count  Non-Null Count  \\\n",
       "0                        age     int64           0          500000   \n",
       "1             income_bracket     int64           0          500000   \n",
       "2         number_of_children     int64           0          500000   \n",
       "3            education_level     int64           0          500000   \n",
       "4         total_transactions     int64           0          500000   \n",
       "5      total_items_purchased     int64           0          500000   \n",
       "6          avg_discount_used   float64           0          500000   \n",
       "7     customer_support_calls     int64           0          500000   \n",
       "8   days_since_last_purchase     int64           0          500000   \n",
       "9        loyalty_program_Yes   float64           0          500000   \n",
       "10    marital_status_Married   float64           0          500000   \n",
       "11        occupation_Retired   float64           0          500000   \n",
       "12  occupation_Self-Employed   float64           0          500000   \n",
       "13     occupation_Unemployed   float64           0          500000   \n",
       "\n",
       "    Unique Count  \n",
       "0             62  \n",
       "1              3  \n",
       "2              5  \n",
       "3              4  \n",
       "4             99  \n",
       "5            499  \n",
       "6             51  \n",
       "7             20  \n",
       "8            365  \n",
       "9              2  \n",
       "10             2  \n",
       "11             2  \n",
       "12             2  \n",
       "13             2  "
      ]
     },
     "execution_count": 43,
     "metadata": {},
     "output_type": "execute_result"
    }
   ],
   "source": [
    "summarize_dataframe(x_dataset)"
   ]
  },
  {
   "cell_type": "code",
   "execution_count": 44,
   "metadata": {},
   "outputs": [
    {
     "name": "stdout",
     "output_type": "stream",
     "text": [
      " x_dataset.shape = (500000, 14),  y_dataset.shape = (500000,)\n",
      " type(x_dataset) = <class 'pandas.core.frame.DataFrame'>,  type(y_dataset) = <class 'numpy.ndarray'>\n"
     ]
    }
   ],
   "source": [
    "print(f\"{ x_dataset.shape = }, { y_dataset.shape = }\")\n",
    "print(f\"{ type(x_dataset) = }, { type(y_dataset) = }\")"
   ]
  },
  {
   "cell_type": "markdown",
   "metadata": {},
   "source": [
    "# Workflow:\n",
    "    1) Split the data into train and test\n",
    "    2) Std scale (fit) on train data. Use mean and std dev of train data to std scale test data\n",
    "        - This prevents data leakage from test to train. "
   ]
  },
  {
   "cell_type": "code",
   "execution_count": 45,
   "metadata": {},
   "outputs": [
    {
     "name": "stdout",
     "output_type": "stream",
     "text": [
      "______________________________________________________________________________________________________________________________________________________\n",
      "SHAPES OF SPLIT DATA SETS\n",
      "______________________________________________________________________________________________________________________________________________________\n",
      " type(X_train) = <class 'pandas.core.frame.DataFrame'>,  X_train.shape = (300000, 14),  type(y_train) = <class 'numpy.ndarray'> ,  y_train.shape = (300000,)\n",
      " type(X_val) = <class 'pandas.core.frame.DataFrame'>,  X_val.shape = (100000, 14),  type(y_val) = <class 'numpy.ndarray'> ,  y_val.shape = (100000,)\n",
      " type(X_test) = <class 'pandas.core.frame.DataFrame'>,  X_test.shape = (100000, 14),  type(y_test) = <class 'numpy.ndarray'> ,  y_test.shape = (100000,)\n",
      "______________________________________________________________________________________________________________________________________________________\n",
      "______________________________________________________________________________________________________________________________________________________\n"
     ]
    }
   ],
   "source": [
    "# Split + Std Scale\n",
    "# Use a 60, 20, 20 split for train, validation and test\n",
    "\n",
    "# Split into training + temp (Temp = validation + test)\n",
    "X_train, X_temp, y_train, y_temp = train_test_split(x_dataset, y_dataset, test_size=0.4, random_state=42)\n",
    "\n",
    "# Now, split Temp into validation and test\n",
    "X_val, X_test, y_val, y_test = train_test_split(X_temp, y_temp, test_size=0.5, random_state=42)\n",
    "\n",
    "print(\"_\"*150)\n",
    "print(\"SHAPES OF SPLIT DATA SETS\")\n",
    "print(\"_\"*150)\n",
    "print(f\"{ type(X_train) = }, { X_train.shape = }, { type(y_train) = } , { y_train.shape = }\")\n",
    "print(f\"{ type(X_val) = }, { X_val.shape = }, { type(y_val) = } , { y_val.shape = }\")\n",
    "print(f\"{ type(X_test) = }, { X_test.shape = }, { type(y_test) = } , { y_test.shape = }\")\n",
    "print(\"_\"*150)\n",
    "print(\"_\"*150)"
   ]
  },
  {
   "cell_type": "code",
   "execution_count": 46,
   "metadata": {},
   "outputs": [
    {
     "data": {
      "text/plain": [
       "<Figure size 640x480 with 0 Axes>"
      ]
     },
     "metadata": {},
     "output_type": "display_data"
    },
    {
     "data": {
      "image/png": "[encoded data removed]",
      "text/plain": [
       "<Figure size 1800x1000 with 2 Axes>"
      ]
     },
     "metadata": {},
     "output_type": "display_data"
    }
   ],
   "source": [
    "# correlation matrix to visualize relationships on our data set for training\n",
    "temp_df = X_train.copy()\n",
    "temp_df['Y'] = y_train\n",
    "plt.clf()\n",
    "corr_matrix = temp_df.corr()\n",
    "plt.figure(figsize=(18,10))\n",
    "sns.heatmap(corr_matrix, annot=True, fmt=\".3f\", cmap='coolwarm')\n",
    "plt.suptitle(\"Correlation matrix of X_train features with Y label included (customer lifetime value is the Y label)\")\n",
    "plt.show()"
   ]
  },
  {
   "cell_type": "code",
   "execution_count": 47,
   "metadata": {},
   "outputs": [
    {
     "data": {
      "image/png": "[encoded data removed]",
      "text/plain": [
       "<Figure size 640x480 with 1 Axes>"
      ]
     },
     "metadata": {},
     "output_type": "display_data"
    }
   ],
   "source": [
    "#Visualize distribiution of Y\n",
    "plt.clf()\n",
    "vstacked_y = np.concatenate((y_train,y_val,y_test)).flatten()\n",
    "sns.histplot(vstacked_y)\n",
    "plt.xlabel('Customer Lifetime Value (Y Labels)')\n",
    "plt.ylabel('Count')\n",
    "plt.suptitle('Distribution of Y labels for combined training, validation, and test data sets')\n",
    "\n",
    "plt.show()"
   ]
  },
  {
   "cell_type": "code",
   "execution_count": 48,
   "metadata": {},
   "outputs": [
    {
     "data": {
      "image/png": "[encoded data removed]",
      "text/plain": [
       "<Figure size 640x480 with 1 Axes>"
      ]
     },
     "metadata": {},
     "output_type": "display_data"
    }
   ],
   "source": [
    "plt.clf()\n",
    "\n",
    "vstacked_y = np.concatenate((y_train, y_val, y_test)).flatten()\n",
    "\n",
    "sns.boxplot(x=vstacked_y)\n",
    "\n",
    "plt.xlabel('Customer Lifetime Value (Y Labels)')\n",
    "plt.ylabel('Value')\n",
    "plt.suptitle('Box Plot of Y labels for Combined Training, Validation, and Test Data Sets')\n",
    "\n",
    "plt.show()"
   ]
  },
  {
   "cell_type": "code",
   "execution_count": 49,
   "metadata": {},
   "outputs": [
    {
     "name": "stdout",
     "output_type": "stream",
     "text": [
      "Skewness: 2.6403552660756335\n",
      "Kurtosis: 6.812475002924071\n"
     ]
    }
   ],
   "source": [
    "import scipy.stats as stats\n",
    "import numpy as np\n",
    "\n",
    "# Assuming y_train contains your Y values for customer lifetime value\n",
    "y_train = np.array(y_train)  # replace y_train with your actual Y data\n",
    "\n",
    "# Calculate skewness and kurtosis\n",
    "skewness = stats.skew(y_train)\n",
    "kurtosis = stats.kurtosis(y_train)\n",
    "\n",
    "print(\"Skewness:\", skewness)\n",
    "print(\"Kurtosis:\", kurtosis)"
   ]
  },
  {
   "cell_type": "markdown",
   "metadata": {},
   "source": [
    "    Skewness of y_train of 2.64 implies right skewed distribution, suggesting a few high value outliers. Kurtosis of 6.82 implies y_train has extreme outliers that can influence model’s predictions.\n",
    "\n",
    "    To mitigate, we will log transformation on y_train (it is right skewed, log transformation should help); and then standard scale.\n",
    "\n",
    "    For X_train we will scale only numerical columns, and not one hot or ordinary encoded columns. "
   ]
  },
  {
   "cell_type": "markdown",
   "metadata": {},
   "source": [
    "# Scaling.\n"
   ]
  },
  {
   "cell_type": "code",
   "execution_count": 50,
   "metadata": {},
   "outputs": [
    {
     "data": {
      "application/vnd.microsoft.datawrangler.viewer.v0+json": {
       "columns": [
        {
         "name": "index",
         "rawType": "int64",
         "type": "integer"
        },
        {
         "name": "Column Name",
         "rawType": "object",
         "type": "string"
        },
        {
         "name": "Data Type",
         "rawType": "object",
         "type": "unknown"
        },
        {
         "name": "Null Count",
         "rawType": "int64",
         "type": "integer"
        },
        {
         "name": "Non-Null Count",
         "rawType": "int64",
         "type": "integer"
        },
        {
         "name": "Unique Count",
         "rawType": "int64",
         "type": "integer"
        }
       ],
       "conversionMethod": "pd.DataFrame",
       "ref": "616a014f-2673-4481-be91-1ad8e7a640be",
       "rows": [
        [
         "0",
         "age",
         "int64",
         "0",
         "300000",
         "62"
        ],
        [
         "1",
         "income_bracket",
         "int64",
         "0",
         "300000",
         "3"
        ],
        [
         "2",
         "number_of_children",
         "int64",
         "0",
         "300000",
         "5"
        ],
        [
         "3",
         "education_level",
         "int64",
         "0",
         "300000",
         "4"
        ],
        [
         "4",
         "total_transactions",
         "int64",
         "0",
         "300000",
         "99"
        ],
        [
         "5",
         "total_items_purchased",
         "int64",
         "0",
         "300000",
         "499"
        ],
        [
         "6",
         "avg_discount_used",
         "float64",
         "0",
         "300000",
         "51"
        ],
        [
         "7",
         "customer_support_calls",
         "int64",
         "0",
         "300000",
         "20"
        ],
        [
         "8",
         "days_since_last_purchase",
         "int64",
         "0",
         "300000",
         "365"
        ],
        [
         "9",
         "loyalty_program_Yes",
         "float64",
         "0",
         "300000",
         "2"
        ],
        [
         "10",
         "marital_status_Married",
         "float64",
         "0",
         "300000",
         "2"
        ],
        [
         "11",
         "occupation_Retired",
         "float64",
         "0",
         "300000",
         "2"
        ],
        [
         "12",
         "occupation_Self-Employed",
         "float64",
         "0",
         "300000",
         "2"
        ],
        [
         "13",
         "occupation_Unemployed",
         "float64",
         "0",
         "300000",
         "2"
        ]
       ],
       "shape": {
        "columns": 5,
        "rows": 14
       }
      },
      "text/html": [
       "<div>\n",
       "<style scoped>\n",
       "    .dataframe tbody tr th:only-of-type {\n",
       "        vertical-align: middle;\n",
       "    }\n",
       "\n",
       "    .dataframe tbody tr th {\n",
       "        vertical-align: top;\n",
       "    }\n",
       "\n",
       "    .dataframe thead th {\n",
       "        text-align: right;\n",
       "    }\n",
       "</style>\n",
       "<table border=\"1\" class=\"dataframe\">\n",
       "  <thead>\n",
       "    <tr style=\"text-align: right;\">\n",
       "      <th></th>\n",
       "      <th>Column Name</th>\n",
       "      <th>Data Type</th>\n",
       "      <th>Null Count</th>\n",
       "      <th>Non-Null Count</th>\n",
       "      <th>Unique Count</th>\n",
       "    </tr>\n",
       "  </thead>\n",
       "  <tbody>\n",
       "    <tr>\n",
       "      <th>0</th>\n",
       "      <td>age</td>\n",
       "      <td>int64</td>\n",
       "      <td>0</td>\n",
       "      <td>300000</td>\n",
       "      <td>62</td>\n",
       "    </tr>\n",
       "    <tr>\n",
       "      <th>1</th>\n",
       "      <td>income_bracket</td>\n",
       "      <td>int64</td>\n",
       "      <td>0</td>\n",
       "      <td>300000</td>\n",
       "      <td>3</td>\n",
       "    </tr>\n",
       "    <tr>\n",
       "      <th>2</th>\n",
       "      <td>number_of_children</td>\n",
       "      <td>int64</td>\n",
       "      <td>0</td>\n",
       "      <td>300000</td>\n",
       "      <td>5</td>\n",
       "    </tr>\n",
       "    <tr>\n",
       "      <th>3</th>\n",
       "      <td>education_level</td>\n",
       "      <td>int64</td>\n",
       "      <td>0</td>\n",
       "      <td>300000</td>\n",
       "      <td>4</td>\n",
       "    </tr>\n",
       "    <tr>\n",
       "      <th>4</th>\n",
       "      <td>total_transactions</td>\n",
       "      <td>int64</td>\n",
       "      <td>0</td>\n",
       "      <td>300000</td>\n",
       "      <td>99</td>\n",
       "    </tr>\n",
       "    <tr>\n",
       "      <th>5</th>\n",
       "      <td>total_items_purchased</td>\n",
       "      <td>int64</td>\n",
       "      <td>0</td>\n",
       "      <td>300000</td>\n",
       "      <td>499</td>\n",
       "    </tr>\n",
       "    <tr>\n",
       "      <th>6</th>\n",
       "      <td>avg_discount_used</td>\n",
       "      <td>float64</td>\n",
       "      <td>0</td>\n",
       "      <td>300000</td>\n",
       "      <td>51</td>\n",
       "    </tr>\n",
       "    <tr>\n",
       "      <th>7</th>\n",
       "      <td>customer_support_calls</td>\n",
       "      <td>int64</td>\n",
       "      <td>0</td>\n",
       "      <td>300000</td>\n",
       "      <td>20</td>\n",
       "    </tr>\n",
       "    <tr>\n",
       "      <th>8</th>\n",
       "      <td>days_since_last_purchase</td>\n",
       "      <td>int64</td>\n",
       "      <td>0</td>\n",
       "      <td>300000</td>\n",
       "      <td>365</td>\n",
       "    </tr>\n",
       "    <tr>\n",
       "      <th>9</th>\n",
       "      <td>loyalty_program_Yes</td>\n",
       "      <td>float64</td>\n",
       "      <td>0</td>\n",
       "      <td>300000</td>\n",
       "      <td>2</td>\n",
       "    </tr>\n",
       "    <tr>\n",
       "      <th>10</th>\n",
       "      <td>marital_status_Married</td>\n",
       "      <td>float64</td>\n",
       "      <td>0</td>\n",
       "      <td>300000</td>\n",
       "      <td>2</td>\n",
       "    </tr>\n",
       "    <tr>\n",
       "      <th>11</th>\n",
       "      <td>occupation_Retired</td>\n",
       "      <td>float64</td>\n",
       "      <td>0</td>\n",
       "      <td>300000</td>\n",
       "      <td>2</td>\n",
       "    </tr>\n",
       "    <tr>\n",
       "      <th>12</th>\n",
       "      <td>occupation_Self-Employed</td>\n",
       "      <td>float64</td>\n",
       "      <td>0</td>\n",
       "      <td>300000</td>\n",
       "      <td>2</td>\n",
       "    </tr>\n",
       "    <tr>\n",
       "      <th>13</th>\n",
       "      <td>occupation_Unemployed</td>\n",
       "      <td>float64</td>\n",
       "      <td>0</td>\n",
       "      <td>300000</td>\n",
       "      <td>2</td>\n",
       "    </tr>\n",
       "  </tbody>\n",
       "</table>\n",
       "</div>"
      ],
      "text/plain": [
       "                 Column Name Data Type  Null Count  Non-Null Count  \\\n",
       "0                        age     int64           0          300000   \n",
       "1             income_bracket     int64           0          300000   \n",
       "2         number_of_children     int64           0          300000   \n",
       "3            education_level     int64           0          300000   \n",
       "4         total_transactions     int64           0          300000   \n",
       "5      total_items_purchased     int64           0          300000   \n",
       "6          avg_discount_used   float64           0          300000   \n",
       "7     customer_support_calls     int64           0          300000   \n",
       "8   days_since_last_purchase     int64           0          300000   \n",
       "9        loyalty_program_Yes   float64           0          300000   \n",
       "10    marital_status_Married   float64           0          300000   \n",
       "11        occupation_Retired   float64           0          300000   \n",
       "12  occupation_Self-Employed   float64           0          300000   \n",
       "13     occupation_Unemployed   float64           0          300000   \n",
       "\n",
       "    Unique Count  \n",
       "0             62  \n",
       "1              3  \n",
       "2              5  \n",
       "3              4  \n",
       "4             99  \n",
       "5            499  \n",
       "6             51  \n",
       "7             20  \n",
       "8            365  \n",
       "9              2  \n",
       "10             2  \n",
       "11             2  \n",
       "12             2  \n",
       "13             2  "
      ]
     },
     "execution_count": 50,
     "metadata": {},
     "output_type": "execute_result"
    }
   ],
   "source": [
    "summarize_dataframe(X_train)"
   ]
  },
  {
   "cell_type": "code",
   "execution_count": 51,
   "metadata": {},
   "outputs": [
    {
     "data": {
      "text/plain": [
       "Index(['age', 'income_bracket', 'number_of_children', 'education_level',\n",
       "       'total_transactions', 'total_items_purchased', 'avg_discount_used',\n",
       "       'customer_support_calls', 'days_since_last_purchase',\n",
       "       'loyalty_program_Yes', 'marital_status_Married', 'occupation_Retired',\n",
       "       'occupation_Self-Employed', 'occupation_Unemployed'],\n",
       "      dtype='object')"
      ]
     },
     "execution_count": 51,
     "metadata": {},
     "output_type": "execute_result"
    }
   ],
   "source": [
    "X_train.columns"
   ]
  },
  {
   "cell_type": "code",
   "execution_count": 52,
   "metadata": {},
   "outputs": [],
   "source": [
    "# Define numerical columns for X_train (excluding one-hot encoded columns)\n",
    "numerical_columns_X = [\n",
    "    'age', 'number_of_children', 'total_transactions', 'total_items_purchased',\n",
    "    'avg_discount_used', 'customer_support_calls', 'days_since_last_purchase'\n",
    "]\n",
    "\n",
    "scaler_X = StandardScaler()\n",
    "\n",
    "# Scale only numerical features in X_train\n",
    "X_train_std = X_train.copy()  \n",
    "X_train_std[numerical_columns_X] = scaler_X.fit_transform(X_train[numerical_columns_X])\n",
    "\n",
    "# Log transformation on y_train \n",
    "y_train_log = np.log1p(y_train)  # log(1 + y) to handle zero values safely\n",
    "\n",
    "# Standard scaling on the transformed y_train\n",
    "scaler_y = StandardScaler()\n",
    "y_train_std = scaler_y.fit_transform(y_train_log.reshape(-1, 1))\n",
    "\n",
    "# Apply the same transformations to X_val, X_test, and y_val, y_test\n",
    "\n",
    "X_val_std = X_val.copy()\n",
    "X_val_std[numerical_columns_X] = scaler_X.transform(X_val[numerical_columns_X])\n",
    "\n",
    "X_test_std = X_test.copy()\n",
    "X_test_std[numerical_columns_X] = scaler_X.transform(X_test[numerical_columns_X])\n",
    "\n",
    "# Log transformation on y_val and y_test\n",
    "y_val_log = np.log1p(y_val)\n",
    "y_val_std = scaler_y.transform(y_val_log.reshape(-1, 1))\n",
    "\n",
    "y_test_log = np.log1p(y_test)\n",
    "y_test_std = scaler_y.transform(y_test_log.reshape(-1, 1))\n",
    "\n",
    "# Output: transformed data: X_train_std, X_val_std, X_test_std, y_train_std, y_val_std, y_test_std\n"
   ]
  },
  {
   "cell_type": "code",
   "execution_count": 53,
   "metadata": {},
   "outputs": [
    {
     "name": "stdout",
     "output_type": "stream",
     "text": [
      "______________________________________________________________________________________________________________________________________________________\n",
      "SHAPES OF SPLIT DATA SETS\n",
      "______________________________________________________________________________________________________________________________________________________\n",
      " type(X_train_std) = <class 'pandas.core.frame.DataFrame'>,  X_train_std.shape = (300000, 14),  type(y_train_std) = <class 'numpy.ndarray'> ,  y_train_std.shape = (300000, 1)\n",
      " type(X_val_std) = <class 'pandas.core.frame.DataFrame'>,  X_val_std.shape = (100000, 14),  type(y_val_std) = <class 'numpy.ndarray'> ,  y_val_std.shape = (100000, 1)\n",
      " type(X_test_std) = <class 'pandas.core.frame.DataFrame'>,  X_test_std.shape = (100000, 14),  type(y_test_std) = <class 'numpy.ndarray'> ,  y_test_std.shape = (100000, 1)\n",
      "______________________________________________________________________________________________________________________________________________________\n",
      "______________________________________________________________________________________________________________________________________________________\n"
     ]
    }
   ],
   "source": [
    "print(\"_\"*150)\n",
    "print(\"SHAPES OF SPLIT DATA SETS\")\n",
    "print(\"_\"*150)\n",
    "print(f\"{ type(X_train_std) = }, { X_train_std.shape = }, { type(y_train_std) = } , { y_train_std.shape = }\")\n",
    "print(f\"{ type(X_val_std) = }, { X_val_std.shape = }, { type(y_val_std) = } , { y_val_std.shape = }\")\n",
    "print(f\"{ type(X_test_std) = }, { X_test_std.shape = }, { type(y_test_std) = } , { y_test_std.shape = }\")\n",
    "print(\"_\"*150)\n",
    "print(\"_\"*150)"
   ]
  },
  {
   "cell_type": "markdown",
   "metadata": {},
   "source": [
    "# Preparation for Model run"
   ]
  },
  {
   "cell_type": "markdown",
   "metadata": {},
   "source": [
    "# \n",
    "    scaler_y state variables that will be required throughout for reverse transformation to recover oroginal values"
   ]
  },
  {
   "cell_type": "code",
   "execution_count": 54,
   "metadata": {},
   "outputs": [],
   "source": [
    "# Utility function to reverse transform\n",
    "\n",
    "def compute_rmse_on_original_scale(y_pred_train, y_pred_val, y_train_std, y_val_std, scaler_y):\n",
    "    \"\"\"\n",
    "    Computes the Train and Validation RMSE on the original scale after inverse transformations (log transformed y).\n",
    "\n",
    "    Parameters:\n",
    "    - y_pred_train: The predicted values on the standardized scale for the training set.\n",
    "    - y_pred_val: The predicted values on the standardized scale for the validation set.\n",
    "    - y_train_std: The standardized training target variable (after log transformation).\n",
    "    - y_val_std: The standardized validation target variable (after log transformation).\n",
    "    - scaler_y: The scaler used for standard scaling of y (should be fitted to y_train).\n",
    "\n",
    "    Returns:\n",
    "    - y_train_original, y_val_original\n",
    "    - train_rmse: The RMSE on the original scale for the training set.\n",
    "    - val_rmse: The RMSE on the original scale for the validation set.\n",
    "    \"\"\"\n",
    "    \n",
    "    # Inverse scaling of predictions\n",
    "    y_pred_train_inv = scaler_y.inverse_transform(y_pred_train).flatten()\n",
    "    y_pred_val_inv = scaler_y.inverse_transform(y_pred_val).flatten()\n",
    "\n",
    "    # Reverse the log transformation for predictions\n",
    "    y_pred_train_original = np.expm1(y_pred_train_inv)  # exp(y) - 1 to reverse log1p\n",
    "    y_pred_val_original = np.expm1(y_pred_val_inv)  # exp(y) - 1 to reverse log1p\n",
    "\n",
    "    # Inverse scaling for actual target values\n",
    "    y_train_inv = scaler_y.inverse_transform(y_train_std).flatten()\n",
    "    y_val_inv = scaler_y.inverse_transform(y_val_std).flatten()\n",
    "\n",
    "    # Reverse the log transformation for actual values\n",
    "    y_train_original = np.expm1(y_train_inv)  # exp(y) - 1 to reverse log1p\n",
    "    y_val_original = np.expm1(y_val_inv)  # exp(y) - 1 to reverse log1p\n",
    "\n",
    "    # Calculate RMSE on original scale\n",
    "    train_rmse = np.sqrt(mean_squared_error(y_train_original, y_pred_train_original))\n",
    "    val_rmse = np.sqrt(mean_squared_error(y_val_original, y_pred_val_original))\n",
    "\n",
    "    return y_train_original, y_val_original, train_rmse, val_rmse\n",
    "\n"
   ]
  },
  {
   "cell_type": "markdown",
   "metadata": {},
   "source": [
    "# ________________________SECTION FOR MODEL RUN_______________"
   ]
  },
  {
   "cell_type": "markdown",
   "metadata": {},
   "source": [
    "# Model 0: Simple Linear Regression"
   ]
  },
  {
   "cell_type": "code",
   "execution_count": 55,
   "metadata": {},
   "outputs": [],
   "source": [
    "model = LinearRegression()\n",
    "model.fit(X_train_std, y_train_std)\n",
    "\n",
    "y_pred_train = model.predict(X_train_std)\n",
    "y_pred_val = model.predict(X_val_std)\n",
    "\n",
    "y_train_original, y_val_original, train_rmse, val_rmse = compute_rmse_on_original_scale(y_pred_train, y_pred_val, y_train_std, y_val_std, scaler_y)\n"
   ]
  },
  {
   "cell_type": "code",
   "execution_count": 56,
   "metadata": {},
   "outputs": [
    {
     "name": "stdout",
     "output_type": "stream",
     "text": [
      "_____________________________________________________________________________________________________________________________\n",
      "Model 0: Simple Linear Regression Model Results\n",
      "_____________________________________________________________________________________________________________________________\n",
      "Train RMSE on original scale: 95156.96\n",
      "Validation RMSE on original scale: 94126.75\n",
      "mean_train_Y = 53157.34, mean_val_Y = 52794.78\n",
      "Train RMSE  = 179.01%,\n",
      " Validation RMSE  = 178.29%\n",
      "_____________________________________________________________________________________________________________________________\n"
     ]
    }
   ],
   "source": [
    "print(\"_\"*125)\n",
    "print(\"Model 0: Simple Linear Regression Model Results\")\n",
    "print(\"_\"*125) \n",
    "print(f\"Train RMSE on original scale: {train_rmse:.2f}\")\n",
    "print(f\"Validation RMSE on original scale: {val_rmse:.2f}\")\n",
    "mean_train_Y, mean_val_Y = np.mean(y_train_original), np.mean(y_val_original) \n",
    "print(f\"mean_train_Y = {mean_train_Y:.2f}, mean_val_Y = {mean_val_Y:.2f}\")\n",
    "print(f\"Train RMSE  = {(train_rmse/ mean_train_Y)*100:.2f}%,\\n Validation RMSE  = {(val_rmse/ mean_val_Y)*100:.2f}%\")\n",
    "print(\"_\"*125)"
   ]
  },
  {
   "cell_type": "markdown",
   "metadata": {},
   "source": [
    "# Model 1: FFNN"
   ]
  },
  {
   "cell_type": "code",
   "execution_count": 57,
   "metadata": {},
   "outputs": [
    {
     "data": {
      "text/html": [
       "<pre style=\"white-space:pre;overflow-x:auto;line-height:normal;font-family:Menlo,'DejaVu Sans Mono',consolas,'Courier New',monospace\"><span style=\"font-weight: bold\">Model: \"functional\"</span>\n",
       "</pre>\n"
      ],
      "text/plain": [
       "\u001b[1mModel: \"functional\"\u001b[0m\n"
      ]
     },
     "metadata": {},
     "output_type": "display_data"
    },
    {
     "data": {
      "text/html": [
       "<pre style=\"white-space:pre;overflow-x:auto;line-height:normal;font-family:Menlo,'DejaVu Sans Mono',consolas,'Courier New',monospace\">┏━━━━━━━━━━━━━━━━━━━━━━━━━━━━━━━━━┳━━━━━━━━━━━━━━━━━━━━━━━━┳━━━━━━━━━━━━━━━┓\n",
       "┃<span style=\"font-weight: bold\"> Layer (type)                    </span>┃<span style=\"font-weight: bold\"> Output Shape           </span>┃<span style=\"font-weight: bold\">       Param # </span>┃\n",
       "┡━━━━━━━━━━━━━━━━━━━━━━━━━━━━━━━━━╇━━━━━━━━━━━━━━━━━━━━━━━━╇━━━━━━━━━━━━━━━┩\n",
       "│ input_layer (<span style=\"color: #0087ff; text-decoration-color: #0087ff\">InputLayer</span>)        │ (<span style=\"color: #00d7ff; text-decoration-color: #00d7ff\">None</span>, <span style=\"color: #00af00; text-decoration-color: #00af00\">14</span>)             │             <span style=\"color: #00af00; text-decoration-color: #00af00\">0</span> │\n",
       "├─────────────────────────────────┼────────────────────────┼───────────────┤\n",
       "│ dense (<span style=\"color: #0087ff; text-decoration-color: #0087ff\">Dense</span>)                   │ (<span style=\"color: #00d7ff; text-decoration-color: #00d7ff\">None</span>, <span style=\"color: #00af00; text-decoration-color: #00af00\">64</span>)             │           <span style=\"color: #00af00; text-decoration-color: #00af00\">960</span> │\n",
       "├─────────────────────────────────┼────────────────────────┼───────────────┤\n",
       "│ dense_1 (<span style=\"color: #0087ff; text-decoration-color: #0087ff\">Dense</span>)                 │ (<span style=\"color: #00d7ff; text-decoration-color: #00d7ff\">None</span>, <span style=\"color: #00af00; text-decoration-color: #00af00\">32</span>)             │         <span style=\"color: #00af00; text-decoration-color: #00af00\">2,080</span> │\n",
       "├─────────────────────────────────┼────────────────────────┼───────────────┤\n",
       "│ dense_2 (<span style=\"color: #0087ff; text-decoration-color: #0087ff\">Dense</span>)                 │ (<span style=\"color: #00d7ff; text-decoration-color: #00d7ff\">None</span>, <span style=\"color: #00af00; text-decoration-color: #00af00\">16</span>)             │           <span style=\"color: #00af00; text-decoration-color: #00af00\">528</span> │\n",
       "├─────────────────────────────────┼────────────────────────┼───────────────┤\n",
       "│ dense_3 (<span style=\"color: #0087ff; text-decoration-color: #0087ff\">Dense</span>)                 │ (<span style=\"color: #00d7ff; text-decoration-color: #00d7ff\">None</span>, <span style=\"color: #00af00; text-decoration-color: #00af00\">1</span>)              │            <span style=\"color: #00af00; text-decoration-color: #00af00\">17</span> │\n",
       "└─────────────────────────────────┴────────────────────────┴───────────────┘\n",
       "</pre>\n"
      ],
      "text/plain": [
       "┏━━━━━━━━━━━━━━━━━━━━━━━━━━━━━━━━━┳━━━━━━━━━━━━━━━━━━━━━━━━┳━━━━━━━━━━━━━━━┓\n",
       "┃\u001b[1m \u001b[0m\u001b[1mLayer (type)                   \u001b[0m\u001b[1m \u001b[0m┃\u001b[1m \u001b[0m\u001b[1mOutput Shape          \u001b[0m\u001b[1m \u001b[0m┃\u001b[1m \u001b[0m\u001b[1m      Param #\u001b[0m\u001b[1m \u001b[0m┃\n",
       "┡━━━━━━━━━━━━━━━━━━━━━━━━━━━━━━━━━╇━━━━━━━━━━━━━━━━━━━━━━━━╇━━━━━━━━━━━━━━━┩\n",
       "│ input_layer (\u001b[38;5;33mInputLayer\u001b[0m)        │ (\u001b[38;5;45mNone\u001b[0m, \u001b[38;5;34m14\u001b[0m)             │             \u001b[38;5;34m0\u001b[0m │\n",
       "├─────────────────────────────────┼────────────────────────┼───────────────┤\n",
       "│ dense (\u001b[38;5;33mDense\u001b[0m)                   │ (\u001b[38;5;45mNone\u001b[0m, \u001b[38;5;34m64\u001b[0m)             │           \u001b[38;5;34m960\u001b[0m │\n",
       "├─────────────────────────────────┼────────────────────────┼───────────────┤\n",
       "│ dense_1 (\u001b[38;5;33mDense\u001b[0m)                 │ (\u001b[38;5;45mNone\u001b[0m, \u001b[38;5;34m32\u001b[0m)             │         \u001b[38;5;34m2,080\u001b[0m │\n",
       "├─────────────────────────────────┼────────────────────────┼───────────────┤\n",
       "│ dense_2 (\u001b[38;5;33mDense\u001b[0m)                 │ (\u001b[38;5;45mNone\u001b[0m, \u001b[38;5;34m16\u001b[0m)             │           \u001b[38;5;34m528\u001b[0m │\n",
       "├─────────────────────────────────┼────────────────────────┼───────────────┤\n",
       "│ dense_3 (\u001b[38;5;33mDense\u001b[0m)                 │ (\u001b[38;5;45mNone\u001b[0m, \u001b[38;5;34m1\u001b[0m)              │            \u001b[38;5;34m17\u001b[0m │\n",
       "└─────────────────────────────────┴────────────────────────┴───────────────┘\n"
      ]
     },
     "metadata": {},
     "output_type": "display_data"
    },
    {
     "data": {
      "text/html": [
       "<pre style=\"white-space:pre;overflow-x:auto;line-height:normal;font-family:Menlo,'DejaVu Sans Mono',consolas,'Courier New',monospace\"><span style=\"font-weight: bold\"> Total params: </span><span style=\"color: #00af00; text-decoration-color: #00af00\">3,585</span> (14.00 KB)\n",
       "</pre>\n"
      ],
      "text/plain": [
       "\u001b[1m Total params: \u001b[0m\u001b[38;5;34m3,585\u001b[0m (14.00 KB)\n"
      ]
     },
     "metadata": {},
     "output_type": "display_data"
    },
    {
     "data": {
      "text/html": [
       "<pre style=\"white-space:pre;overflow-x:auto;line-height:normal;font-family:Menlo,'DejaVu Sans Mono',consolas,'Courier New',monospace\"><span style=\"font-weight: bold\"> Trainable params: </span><span style=\"color: #00af00; text-decoration-color: #00af00\">3,585</span> (14.00 KB)\n",
       "</pre>\n"
      ],
      "text/plain": [
       "\u001b[1m Trainable params: \u001b[0m\u001b[38;5;34m3,585\u001b[0m (14.00 KB)\n"
      ]
     },
     "metadata": {},
     "output_type": "display_data"
    },
    {
     "data": {
      "text/html": [
       "<pre style=\"white-space:pre;overflow-x:auto;line-height:normal;font-family:Menlo,'DejaVu Sans Mono',consolas,'Courier New',monospace\"><span style=\"font-weight: bold\"> Non-trainable params: </span><span style=\"color: #00af00; text-decoration-color: #00af00\">0</span> (0.00 B)\n",
       "</pre>\n"
      ],
      "text/plain": [
       "\u001b[1m Non-trainable params: \u001b[0m\u001b[38;5;34m0\u001b[0m (0.00 B)\n"
      ]
     },
     "metadata": {},
     "output_type": "display_data"
    }
   ],
   "source": [
    "# Define the model using the Functional API\n",
    "inputs = layers.Input(shape=(X_train_std.shape[1],))  \n",
    "\n",
    "x = layers.Dense(64, activation='relu')(inputs)  \n",
    "x = layers.Dense(32, activation='relu')(x)  \n",
    "x = layers.Dense(16, activation='relu')(x)  \n",
    "\n",
    "# Output layer for regression (single output neuron)\n",
    "outputs = layers.Dense(1)(x)\n",
    "\n",
    "# Create the model\n",
    "model = models.Model(inputs=inputs, outputs=outputs)\n",
    "\n",
    "# Compile the model with appropriate loss and optimizer\n",
    "model.compile(optimizer='adam', loss='mse', metrics=['mae'])\n",
    "\n",
    "early_stopping = EarlyStopping(monitor='val_loss', patience=5, restore_best_weights=True)\n",
    "\n",
    "model.summary()"
   ]
  },
  {
   "cell_type": "code",
   "execution_count": 58,
   "metadata": {},
   "outputs": [
    {
     "name": "stdout",
     "output_type": "stream",
     "text": [
      "Epoch 1/50\n"
     ]
    },
    {
     "name": "stderr",
     "output_type": "stream",
     "text": [
      "2025-04-06 00:07:01.238406: I tensorflow/core/grappler/optimizers/custom_graph_optimizer_registry.cc:117] Plugin optimizer for device_type GPU is enabled.\n"
     ]
    },
    {
     "name": "stdout",
     "output_type": "stream",
     "text": [
      "\u001b[1m9375/9375\u001b[0m \u001b[32m━━━━━━━━━━━━━━━━━━━━\u001b[0m\u001b[37m\u001b[0m \u001b[1m62s\u001b[0m 7ms/step - loss: 1.0277 - mae: 0.7935 - val_loss: 1.1142 - val_mae: 0.8346\n",
      "Epoch 2/50\n",
      "\u001b[1m9375/9375\u001b[0m \u001b[32m━━━━━━━━━━━━━━━━━━━━\u001b[0m\u001b[37m\u001b[0m \u001b[1m62s\u001b[0m 7ms/step - loss: 1.0176 - mae: 0.7889 - val_loss: 1.0114 - val_mae: 0.7909\n",
      "Epoch 3/50\n",
      "\u001b[1m9375/9375\u001b[0m \u001b[32m━━━━━━━━━━━━━━━━━━━━\u001b[0m\u001b[37m\u001b[0m \u001b[1m61s\u001b[0m 7ms/step - loss: 1.0303 - mae: 0.7953 - val_loss: 1.0064 - val_mae: 0.7824\n",
      "Epoch 4/50\n",
      "\u001b[1m9375/9375\u001b[0m \u001b[32m━━━━━━━━━━━━━━━━━━━━\u001b[0m\u001b[37m\u001b[0m \u001b[1m62s\u001b[0m 7ms/step - loss: 1.0381 - mae: 0.7999 - val_loss: 0.9934 - val_mae: 0.7806\n",
      "Epoch 5/50\n",
      "\u001b[1m9375/9375\u001b[0m \u001b[32m━━━━━━━━━━━━━━━━━━━━\u001b[0m\u001b[37m\u001b[0m \u001b[1m63s\u001b[0m 7ms/step - loss: 1.0454 - mae: 0.8025 - val_loss: 1.0364 - val_mae: 0.7935\n",
      "Epoch 6/50\n",
      "\u001b[1m9375/9375\u001b[0m \u001b[32m━━━━━━━━━━━━━━━━━━━━\u001b[0m\u001b[37m\u001b[0m \u001b[1m63s\u001b[0m 7ms/step - loss: 1.0398 - mae: 0.7998 - val_loss: 1.0013 - val_mae: 0.7858\n",
      "Epoch 7/50\n",
      "\u001b[1m9375/9375\u001b[0m \u001b[32m━━━━━━━━━━━━━━━━━━━━\u001b[0m\u001b[37m\u001b[0m \u001b[1m64s\u001b[0m 7ms/step - loss: 1.0395 - mae: 0.7996 - val_loss: 0.9998 - val_mae: 0.7850\n",
      "Epoch 8/50\n",
      "\u001b[1m9375/9375\u001b[0m \u001b[32m━━━━━━━━━━━━━━━━━━━━\u001b[0m\u001b[37m\u001b[0m \u001b[1m64s\u001b[0m 7ms/step - loss: 1.0471 - mae: 0.8031 - val_loss: 1.0192 - val_mae: 0.7975\n",
      "Epoch 9/50\n",
      "\u001b[1m9375/9375\u001b[0m \u001b[32m━━━━━━━━━━━━━━━━━━━━\u001b[0m\u001b[37m\u001b[0m \u001b[1m61s\u001b[0m 6ms/step - loss: 1.0398 - mae: 0.7993 - val_loss: 0.9931 - val_mae: 0.7795\n",
      "Epoch 10/50\n",
      "\u001b[1m9375/9375\u001b[0m \u001b[32m━━━━━━━━━━━━━━━━━━━━\u001b[0m\u001b[37m\u001b[0m \u001b[1m60s\u001b[0m 6ms/step - loss: 1.0430 - mae: 0.8026 - val_loss: 1.0408 - val_mae: 0.8100\n",
      "Epoch 11/50\n",
      "\u001b[1m9375/9375\u001b[0m \u001b[32m━━━━━━━━━━━━━━━━━━━━\u001b[0m\u001b[37m\u001b[0m \u001b[1m62s\u001b[0m 7ms/step - loss: 1.0357 - mae: 0.7979 - val_loss: 1.0997 - val_mae: 0.8199\n",
      "Epoch 12/50\n",
      "\u001b[1m9375/9375\u001b[0m \u001b[32m━━━━━━━━━━━━━━━━━━━━\u001b[0m\u001b[37m\u001b[0m \u001b[1m63s\u001b[0m 7ms/step - loss: 1.0469 - mae: 0.8027 - val_loss: 1.0565 - val_mae: 0.8185\n",
      "Epoch 13/50\n",
      "\u001b[1m9375/9375\u001b[0m \u001b[32m━━━━━━━━━━━━━━━━━━━━\u001b[0m\u001b[37m\u001b[0m \u001b[1m64s\u001b[0m 7ms/step - loss: 1.0429 - mae: 0.8010 - val_loss: 0.9972 - val_mae: 0.7785\n",
      "Epoch 14/50\n",
      "\u001b[1m9375/9375\u001b[0m \u001b[32m━━━━━━━━━━━━━━━━━━━━\u001b[0m\u001b[37m\u001b[0m \u001b[1m64s\u001b[0m 7ms/step - loss: 1.0394 - mae: 0.7987 - val_loss: 1.0409 - val_mae: 0.7950\n"
     ]
    }
   ],
   "source": [
    "# Train the model with early stopping callback\n",
    "history = model.fit(X_train_std, y_train_std, epochs=50, batch_size=32, \n",
    "                    validation_data=(X_val_std, y_val_std),\n",
    "                    callbacks=[early_stopping])"
   ]
  },
  {
   "cell_type": "code",
   "execution_count": 60,
   "metadata": {},
   "outputs": [
    {
     "data": {
      "text/plain": [
       "<Figure size 640x480 with 0 Axes>"
      ]
     },
     "metadata": {},
     "output_type": "display_data"
    },
    {
     "data": {
      "image/png": "[encoded data removed]",
      "text/plain": [
       "<Figure size 1400x600 with 2 Axes>"
      ]
     },
     "metadata": {},
     "output_type": "display_data"
    }
   ],
   "source": [
    "#Visualization \n",
    "# plot loss curves\n",
    "plt.clf()\n",
    "hist = history.history\n",
    "x_data = np.arange(len(hist['loss'])) + 1\n",
    "\n",
    "fix, axes = plt.subplots(1,2, figsize=(14,6))\n",
    "axes = axes.flatten()\n",
    "\n",
    "###we print losses to prevent the extremely high first epoch training loss from impacting plot resolution\n",
    "axes[0].plot(x_data, hist['loss'], '-o', label='Train loss')\n",
    "axes[0].plot(x_data, hist['val_loss'], '-->', label='Validation loss')\n",
    "axes[0].legend(fontsize=15)\n",
    "axes[0].set_xlabel('Epoch', size=15)\n",
    "axes[0].set_ylabel('Loss', size=15)\n",
    "ticks = x_data\n",
    "axes[0].set_xticks(ticks)\n",
    "#axes[1].set_ylim(0,3) ## trying to prevent the high first epoch training loss from \n",
    "\n",
    "axes[1].plot(x_data, hist['mae'], '-o', label='Training MAE')\n",
    "axes[1].plot(x_data, hist['val_mae'], '-->', label='Validation MAE')\n",
    "axes[1].legend(fontsize=15)\n",
    "axes[1].set_xlabel('Epoch', size=15)\n",
    "axes[1].set_ylabel('MAE', size=15)\n",
    "#axes[1].set_ylim(0,1)\n",
    "ticks = x_data\n",
    "axes[1].set_xticks(ticks)\n",
    "plt.suptitle(\"Model Performance of Linear Regression FFNN model (Early Stopping, Patience =7)\")\n",
    "plt.show()"
   ]
  },
  {
   "cell_type": "code",
   "execution_count": 61,
   "metadata": {},
   "outputs": [
    {
     "name": "stdout",
     "output_type": "stream",
     "text": [
      "\u001b[1m9375/9375\u001b[0m \u001b[32m━━━━━━━━━━━━━━━━━━━━\u001b[0m\u001b[37m\u001b[0m \u001b[1m8s\u001b[0m 901us/step\n",
      "\u001b[1m3125/3125\u001b[0m \u001b[32m━━━━━━━━━━━━━━━━━━━━\u001b[0m\u001b[37m\u001b[0m \u001b[1m3s\u001b[0m 883us/step\n",
      "Train RMSE (Original Scale): 95006.12220911199\n",
      "Validation RMSE (Original Scale): 93973.05097429572\n"
     ]
    }
   ],
   "source": [
    "# Make predictions\n",
    "y_pred_train = model.predict(X_train_std)\n",
    "y_pred_val = model.predict(X_val_std)\n",
    "\n",
    "# Compute RMSE on the original scale (assuming compute_rmse_on_original_scale is defined)\n",
    "y_train_original, y_val_original, train_rmse, val_rmse = compute_rmse_on_original_scale(y_pred_train, y_pred_val, y_train_std, y_val_std, scaler_y)\n",
    "\n",
    "# Print RMSE results\n",
    "print(f\"Train RMSE (Original Scale): {train_rmse}\")\n",
    "print(f\"Validation RMSE (Original Scale): {val_rmse}\")"
   ]
  },
  {
   "cell_type": "code",
   "execution_count": 63,
   "metadata": {},
   "outputs": [
    {
     "name": "stdout",
     "output_type": "stream",
     "text": [
      "_____________________________________________________________________________________________________________________________\n",
      "Model 1: FFNN Regression Model Results\n",
      "_____________________________________________________________________________________________________________________________\n",
      "Train RMSE on original scale: 95006.12\n",
      "Validation RMSE on original scale: 93973.05\n",
      "mean_train_Y = 53157.34, mean_val_Y = 52794.78\n",
      "Train RMSE  = 178.73%,\n",
      " Validation RMSE  = 178.00%\n",
      "_____________________________________________________________________________________________________________________________\n"
     ]
    }
   ],
   "source": [
    "print(\"_\"*125)\n",
    "print(\"Model 1: FFNN Regression Model Results\")\n",
    "print(\"_\"*125) \n",
    "print(f\"Train RMSE on original scale: {train_rmse:.2f}\")\n",
    "print(f\"Validation RMSE on original scale: {val_rmse:.2f}\")\n",
    "mean_train_Y, mean_val_Y = np.mean(y_train_original), np.mean(y_val_original) \n",
    "print(f\"mean_train_Y = {mean_train_Y:.2f}, mean_val_Y = {mean_val_Y:.2f}\")\n",
    "print(f\"Train RMSE  = {(train_rmse/ mean_train_Y)*100:.2f}%,\\n Validation RMSE  = {(val_rmse/ mean_val_Y)*100:.2f}%\")\n",
    "print(\"_\"*125)"
   ]
  },
  {
   "cell_type": "markdown",
   "metadata": {},
   "source": [
    "# Model Results Analysis So Far (Notebook file: 207_FP_LFTV_Run_2_VSAPR5.ipynb)\n",
    "\n",
    "    The heartbeat of a Customer Lifetime Value (CLV) are average purchase value, purchase frequency, total sales, customer lifespan. However, we had to calculate a ground truth for our data set —- calculate the CLV label for our examples because this label was missing —- and in calculation of this label we use these three variables and added some gaussian noise to calculate the label CLV.\n",
    "\n",
    "    To prevent data leakage, we excluded average purchase value, purchase frequency, total sales, customer lifespan from our model runs. Both Linear Regression and FFNN Regression that we just ran did not use these features. This led to Validation RMSEs of 178.29% and 178% respectively from the two models. Such high validation RMSEs compare with similar experimental runs we did earlier that included a slightly different set of features but also did not include average purchase value, purchase frequency, total sales, customer lifespan as features (one such similar run earlier produced a validation RMSE of 92089.17, also very high).\n",
    "\n",
    "    In real world, a business may choose to be OK with such large RMSEs. Why? Because CLV values are DIRECTIONAL indicators, and decisions are not made on the absolute value of a CLV for a customer. CLVs are used for comparisons, and thus a higher RMSE may indeed be acceptable. In addition, a marketing team may also exercise experience to produce CLV labels.\n",
    "\n",
    "    But to complete our story, we will launch another run of CLV modeling. Now, we will use average purchase value, purchase frequency, total sales, membership years (a better (less direct) proxy for customer lifespan) as features in the model, but adjust each of them to include some noise. Our model will include noise-adjusted versions of each of these features.\n"
   ]
  },
  {
   "cell_type": "markdown",
   "metadata": {},
   "source": [
    "# MODEL RUN PHASE 2 \n",
    "    Include noise-adjusted versions of ‘adjusted_avg_purch_val’, 'adjusted_purchase_frequency', 'adjusted_membership_years’, 'adjusted_total_sales' in the model.\n",
    "\n",
    "    We will also consider addition of some new, and dropping of existing features.\n",
    "\n",
    "    We will run Model Phase 2 in a separate notebook."
   ]
  }
 ],
 "metadata": {
  "kernelspec": {
   "display_name": "base",
   "language": "python",
   "name": "python3"
  },
  "language_info": {
   "codemirror_mode": {
    "name": "ipython",
    "version": 3
   },
   "file_extension": ".py",
   "mimetype": "text/x-python",
   "name": "python",
   "nbconvert_exporter": "python",
   "pygments_lexer": "ipython3",
   "version": "3.11.10"
  }
 },
 "nbformat": 4,
 "nbformat_minor": 2
}
